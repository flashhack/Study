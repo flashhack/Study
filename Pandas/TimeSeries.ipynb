{
 "cells": [
  {
   "cell_type": "code",
   "execution_count": 1,
   "metadata": {
    "collapsed": false,
    "scrolled": true
   },
   "outputs": [
    {
     "name": "stdout",
     "output_type": "stream",
     "text": [
      "Populating the interactive namespace from numpy and matplotlib\n"
     ]
    }
   ],
   "source": [
    "%pylab inline\n",
    "from pandas import Series, DataFrame\n",
    "import pandas as pd\n",
    "import matplotlib.pyplot as plt"
   ]
  },
  {
   "cell_type": "code",
   "execution_count": 15,
   "metadata": {
    "collapsed": true
   },
   "outputs": [],
   "source": [
    "from datetime import datetime, date, time, timedelta"
   ]
  },
  {
   "cell_type": "code",
   "execution_count": 2,
   "metadata": {
    "collapsed": true
   },
   "outputs": [],
   "source": [
    "rng = pd.date_range('1/1/2000', periods=10000000, freq='10ms')"
   ]
  },
  {
   "cell_type": "code",
   "execution_count": 3,
   "metadata": {
    "collapsed": true
   },
   "outputs": [],
   "source": [
    "ts = Series(np.random.randn(len(rng)), index=rng)"
   ]
  },
  {
   "cell_type": "code",
   "execution_count": 4,
   "metadata": {
    "collapsed": false
   },
   "outputs": [
    {
     "data": {
      "text/plain": [
       "2000-01-01 00:00:00           0.846665\n",
       "2000-01-01 00:00:00.010000   -0.497797\n",
       "2000-01-01 00:00:00.020000   -1.223423\n",
       "2000-01-01 00:00:00.030000   -0.648407\n",
       "2000-01-01 00:00:00.040000    0.147620\n",
       "Freq: 10L, dtype: float64"
      ]
     },
     "execution_count": 4,
     "metadata": {},
     "output_type": "execute_result"
    }
   ],
   "source": [
    "ts.head()"
   ]
  },
  {
   "cell_type": "code",
   "execution_count": 6,
   "metadata": {
    "collapsed": false
   },
   "outputs": [
    {
     "data": {
      "text/html": [
       "<div style=\"max-height:1000px;max-width:1500px;overflow:auto;\">\n",
       "<table border=\"1\" class=\"dataframe\">\n",
       "  <thead>\n",
       "    <tr style=\"text-align: right;\">\n",
       "      <th></th>\n",
       "      <th>open</th>\n",
       "      <th>high</th>\n",
       "      <th>low</th>\n",
       "      <th>close</th>\n",
       "    </tr>\n",
       "  </thead>\n",
       "  <tbody>\n",
       "    <tr>\n",
       "      <th>2000-01-01 00:00:00</th>\n",
       "      <td> 0.846665</td>\n",
       "      <td> 4.302305</td>\n",
       "      <td>-4.099486</td>\n",
       "      <td> 0.982235</td>\n",
       "    </tr>\n",
       "    <tr>\n",
       "      <th>2000-01-01 00:15:00</th>\n",
       "      <td> 0.725173</td>\n",
       "      <td> 4.454019</td>\n",
       "      <td>-4.175307</td>\n",
       "      <td>-0.196354</td>\n",
       "    </tr>\n",
       "    <tr>\n",
       "      <th>2000-01-01 00:30:00</th>\n",
       "      <td>-0.487569</td>\n",
       "      <td> 4.708520</td>\n",
       "      <td>-4.507258</td>\n",
       "      <td>-0.703136</td>\n",
       "    </tr>\n",
       "    <tr>\n",
       "      <th>2000-01-01 00:45:00</th>\n",
       "      <td> 0.219955</td>\n",
       "      <td> 4.131827</td>\n",
       "      <td>-4.149388</td>\n",
       "      <td> 2.748819</td>\n",
       "    </tr>\n",
       "    <tr>\n",
       "      <th>2000-01-01 01:00:00</th>\n",
       "      <td>-0.834409</td>\n",
       "      <td> 4.342003</td>\n",
       "      <td>-3.944252</td>\n",
       "      <td>-0.283636</td>\n",
       "    </tr>\n",
       "  </tbody>\n",
       "</table>\n",
       "</div>"
      ],
      "text/plain": [
       "                         open      high       low     close\n",
       "2000-01-01 00:00:00  0.846665  4.302305 -4.099486  0.982235\n",
       "2000-01-01 00:15:00  0.725173  4.454019 -4.175307 -0.196354\n",
       "2000-01-01 00:30:00 -0.487569  4.708520 -4.507258 -0.703136\n",
       "2000-01-01 00:45:00  0.219955  4.131827 -4.149388  2.748819\n",
       "2000-01-01 01:00:00 -0.834409  4.342003 -3.944252 -0.283636"
      ]
     },
     "execution_count": 6,
     "metadata": {},
     "output_type": "execute_result"
    }
   ],
   "source": [
    "ts.resample('15min', how='ohlc').head()"
   ]
  },
  {
   "cell_type": "code",
   "execution_count": 7,
   "metadata": {
    "collapsed": false
   },
   "outputs": [
    {
     "name": "stdout",
     "output_type": "stream",
     "text": [
      "10 loops, best of 3: 45.7 ms per loop\n"
     ]
    }
   ],
   "source": [
    "%timeit ts.resample('15min', how='ohlc')"
   ]
  },
  {
   "cell_type": "code",
   "execution_count": 8,
   "metadata": {
    "collapsed": false
   },
   "outputs": [
    {
     "data": {
      "text/plain": [
       "2000-01-01 00:00:00    0.851155\n",
       "2000-01-01 00:00:01   -0.141601\n",
       "2000-01-01 00:00:02    0.640751\n",
       "2000-01-01 00:00:03   -0.352640\n",
       "2000-01-01 00:00:04   -0.505881\n",
       "Freq: S, dtype: float64"
      ]
     },
     "execution_count": 8,
     "metadata": {},
     "output_type": "execute_result"
    }
   ],
   "source": [
    "rng = pd.date_range('1/1/2000', periods=10000000, freq='1s')\n",
    "ts = Series(np.random.randn(len(rng)), index=rng)\n",
    "ts.head()"
   ]
  },
  {
   "cell_type": "code",
   "execution_count": 9,
   "metadata": {
    "collapsed": false
   },
   "outputs": [
    {
     "name": "stdout",
     "output_type": "stream",
     "text": [
      "1 loops, best of 3: 96.7 ms per loop\n"
     ]
    }
   ],
   "source": [
    "%timeit ts.resample('15s', how='ohlc')"
   ]
  },
  {
   "cell_type": "code",
   "execution_count": 10,
   "metadata": {
    "collapsed": false
   },
   "outputs": [
    {
     "data": {
      "text/plain": [
       "datetime.datetime(1997, 1, 31, 22, 45)"
      ]
     },
     "execution_count": 10,
     "metadata": {},
     "output_type": "execute_result"
    }
   ],
   "source": [
    "from dateutil.parser import parse "
   ]
  },
  {
   "cell_type": "code",
   "execution_count": 12,
   "metadata": {
    "collapsed": false
   },
   "outputs": [
    {
     "name": "stdout",
     "output_type": "stream",
     "text": [
      "2011-01-03 00:00:00\n",
      "2011-06-12 00:00:00\n",
      "1997-01-31 22:45:00\n"
     ]
    }
   ],
   "source": [
    "print parse('2011-01-03')\n",
    "print parse('6/12/2011') \n",
    "print parse('Jan 31, 1997 10:45 PM') "
   ]
  },
  {
   "cell_type": "code",
   "execution_count": 13,
   "metadata": {
    "collapsed": false
   },
   "outputs": [
    {
     "data": {
      "text/plain": [
       "datetime.datetime(2042, 6, 10, 0, 0)"
      ]
     },
     "execution_count": 13,
     "metadata": {},
     "output_type": "execute_result"
    }
   ],
   "source": [
    "parse('42')"
   ]
  },
  {
   "cell_type": "code",
   "execution_count": null,
   "metadata": {
    "collapsed": true
   },
   "outputs": [],
   "source": []
  },
  {
   "cell_type": "code",
   "execution_count": 16,
   "metadata": {
    "collapsed": false
   },
   "outputs": [],
   "source": [
    "dates = [datetime(2011, 1, 2), datetime(2011, 1, 5), datetime(2011, 1, 7), datetime(2011, 1, 8), datetime(2011, 1, 10), datetime(2011, 1, 12)]\n",
    "ts = Series(np.random.randn(6), index=dates)"
   ]
  },
  {
   "cell_type": "code",
   "execution_count": 17,
   "metadata": {
    "collapsed": false
   },
   "outputs": [
    {
     "data": {
      "text/plain": [
       "2011-01-02   -0.625085\n",
       "2011-01-05    0.305220\n",
       "2011-01-07    1.014951\n",
       "2011-01-08    0.620054\n",
       "2011-01-10    0.616253\n",
       "2011-01-12    0.467356\n",
       "dtype: float64"
      ]
     },
     "execution_count": 17,
     "metadata": {},
     "output_type": "execute_result"
    }
   ],
   "source": [
    "ts"
   ]
  },
  {
   "cell_type": "code",
   "execution_count": 20,
   "metadata": {
    "collapsed": false
   },
   "outputs": [
    {
     "data": {
      "text/plain": [
       "2011-01-02   -0.625085\n",
       "2011-01-07    1.014951\n",
       "2011-01-10    0.616253\n",
       "dtype: float64"
      ]
     },
     "execution_count": 20,
     "metadata": {},
     "output_type": "execute_result"
    }
   ],
   "source": [
    "ts[::2]"
   ]
  },
  {
   "cell_type": "code",
   "execution_count": 21,
   "metadata": {
    "collapsed": false
   },
   "outputs": [
    {
     "data": {
      "text/plain": [
       "2011-01-02   -1.250170\n",
       "2011-01-05    0.305220\n",
       "2011-01-07    2.029902\n",
       "2011-01-08    0.620054\n",
       "2011-01-10    1.232506\n",
       "2011-01-12    0.467356\n",
       "dtype: float64"
      ]
     },
     "execution_count": 21,
     "metadata": {},
     "output_type": "execute_result"
    }
   ],
   "source": [
    "ts.add(ts[::2],fill_value=0)"
   ]
  },
  {
   "cell_type": "code",
   "execution_count": 23,
   "metadata": {
    "collapsed": false,
    "scrolled": true
   },
   "outputs": [
    {
     "data": {
      "text/plain": [
       "dtype('<M8[ns]')"
      ]
     },
     "execution_count": 23,
     "metadata": {},
     "output_type": "execute_result"
    }
   ],
   "source": [
    "ts.index.dtype"
   ]
  },
  {
   "cell_type": "code",
   "execution_count": 32,
   "metadata": {
    "collapsed": false
   },
   "outputs": [
    {
     "data": {
      "text/plain": [
       "0"
      ]
     },
     "execution_count": 32,
     "metadata": {},
     "output_type": "execute_result"
    }
   ],
   "source": [
    "len(ts['1/3/2011':'1/4/2011'])"
   ]
  },
  {
   "cell_type": "code",
   "execution_count": 24,
   "metadata": {
    "collapsed": true
   },
   "outputs": [],
   "source": [
    "longer_ts = Series(np.random.randn(1000), index=pd.date_range('1/1/2000', periods=1000))"
   ]
  },
  {
   "cell_type": "code",
   "execution_count": 25,
   "metadata": {
    "collapsed": false
   },
   "outputs": [
    {
     "data": {
      "text/plain": [
       "2000-01-01   -0.298812\n",
       "2000-01-02   -0.198170\n",
       "2000-01-03   -0.238196\n",
       "2000-01-04    0.196822\n",
       "2000-01-05    1.776329\n",
       "Freq: D, dtype: float64"
      ]
     },
     "execution_count": 25,
     "metadata": {},
     "output_type": "execute_result"
    }
   ],
   "source": [
    "longer_ts.head()"
   ]
  },
  {
   "cell_type": "code",
   "execution_count": 27,
   "metadata": {
    "collapsed": false
   },
   "outputs": [
    {
     "data": {
      "text/plain": [
       "2001-05-01   -0.986430\n",
       "2001-05-02   -0.165505\n",
       "2001-05-03    0.907378\n",
       "2001-05-04   -0.600211\n",
       "2001-05-05    2.098888\n",
       "2001-05-06   -0.779227\n",
       "2001-05-07   -0.188450\n",
       "2001-05-08   -0.057118\n",
       "2001-05-09    0.138363\n",
       "2001-05-10   -0.266098\n",
       "2001-05-11    0.414678\n",
       "2001-05-12    0.357105\n",
       "2001-05-13    0.065936\n",
       "2001-05-14    1.092951\n",
       "2001-05-15    1.540859\n",
       "2001-05-16    0.072173\n",
       "2001-05-17    0.610731\n",
       "2001-05-18   -0.126448\n",
       "2001-05-19    0.747461\n",
       "2001-05-20    0.391824\n",
       "2001-05-21   -0.030552\n",
       "2001-05-22   -0.101066\n",
       "2001-05-23    0.252065\n",
       "2001-05-24   -0.990279\n",
       "2001-05-25    0.279537\n",
       "2001-05-26   -1.335440\n",
       "2001-05-27   -1.004702\n",
       "2001-05-28    0.419751\n",
       "2001-05-29   -0.141365\n",
       "2001-05-30    0.232903\n",
       "2001-05-31   -0.481980\n",
       "Freq: D, dtype: float64"
      ]
     },
     "execution_count": 27,
     "metadata": {},
     "output_type": "execute_result"
    }
   ],
   "source": [
    "longer_ts['2001-05']"
   ]
  },
  {
   "cell_type": "code",
   "execution_count": 29,
   "metadata": {
    "collapsed": true
   },
   "outputs": [],
   "source": [
    "long_df = DataFrame(np.random.randn(100, 4), \n",
    "                    index=pd.date_range('1/1/2000', periods=100, freq='W-WED'),\n",
    "                    columns=['Colorado', 'Texas', 'New York', 'Ohio'])"
   ]
  },
  {
   "cell_type": "code",
   "execution_count": 30,
   "metadata": {
    "collapsed": false
   },
   "outputs": [
    {
     "data": {
      "text/html": [
       "<div style=\"max-height:1000px;max-width:1500px;overflow:auto;\">\n",
       "<table border=\"1\" class=\"dataframe\">\n",
       "  <thead>\n",
       "    <tr style=\"text-align: right;\">\n",
       "      <th></th>\n",
       "      <th>Colorado</th>\n",
       "      <th>Texas</th>\n",
       "      <th>New York</th>\n",
       "      <th>Ohio</th>\n",
       "    </tr>\n",
       "  </thead>\n",
       "  <tbody>\n",
       "    <tr>\n",
       "      <th>2000-01-05</th>\n",
       "      <td>-0.039659</td>\n",
       "      <td>-0.313733</td>\n",
       "      <td> 0.416138</td>\n",
       "      <td>-1.595709</td>\n",
       "    </tr>\n",
       "    <tr>\n",
       "      <th>2000-01-12</th>\n",
       "      <td> 0.082595</td>\n",
       "      <td>-1.856639</td>\n",
       "      <td> 0.104252</td>\n",
       "      <td>-0.741068</td>\n",
       "    </tr>\n",
       "    <tr>\n",
       "      <th>2000-01-19</th>\n",
       "      <td>-0.295864</td>\n",
       "      <td>-1.041190</td>\n",
       "      <td> 0.610955</td>\n",
       "      <td> 0.525546</td>\n",
       "    </tr>\n",
       "    <tr>\n",
       "      <th>2000-01-26</th>\n",
       "      <td>-0.960750</td>\n",
       "      <td> 0.030816</td>\n",
       "      <td> 0.048490</td>\n",
       "      <td> 0.516169</td>\n",
       "    </tr>\n",
       "    <tr>\n",
       "      <th>2000-02-02</th>\n",
       "      <td> 0.657812</td>\n",
       "      <td> 0.480306</td>\n",
       "      <td>-0.909590</td>\n",
       "      <td>-0.911614</td>\n",
       "    </tr>\n",
       "  </tbody>\n",
       "</table>\n",
       "</div>"
      ],
      "text/plain": [
       "            Colorado     Texas  New York      Ohio\n",
       "2000-01-05 -0.039659 -0.313733  0.416138 -1.595709\n",
       "2000-01-12  0.082595 -1.856639  0.104252 -0.741068\n",
       "2000-01-19 -0.295864 -1.041190  0.610955  0.525546\n",
       "2000-01-26 -0.960750  0.030816  0.048490  0.516169\n",
       "2000-02-02  0.657812  0.480306 -0.909590 -0.911614"
      ]
     },
     "execution_count": 30,
     "metadata": {},
     "output_type": "execute_result"
    }
   ],
   "source": [
    "long_df.head()"
   ]
  },
  {
   "cell_type": "code",
   "execution_count": null,
   "metadata": {
    "collapsed": true
   },
   "outputs": [],
   "source": []
  }
 ],
 "metadata": {
  "kernelspec": {
   "display_name": "Python 2",
   "language": "python",
   "name": "python2"
  },
  "language_info": {
   "codemirror_mode": {
    "name": "ipython",
    "version": 2
   },
   "file_extension": ".py",
   "mimetype": "text/x-python",
   "name": "python",
   "nbconvert_exporter": "python",
   "pygments_lexer": "ipython2",
   "version": "2.7.9"
  }
 },
 "nbformat": 4,
 "nbformat_minor": 0
}
