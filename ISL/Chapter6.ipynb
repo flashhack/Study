{
 "cells": [
  {
   "cell_type": "markdown",
   "metadata": {},
   "source": [
    "##FullSubsetSelection"
   ]
  },
  {
   "cell_type": "code",
   "execution_count": null,
   "metadata": {
    "collapsed": false
   },
   "outputs": [],
   "source": [
    "library(ISLR)\n",
    "names(Hitters)\n",
    "summary(Hitters)"
   ]
  },
  {
   "cell_type": "code",
   "execution_count": null,
   "metadata": {
    "collapsed": false
   },
   "outputs": [],
   "source": [
    "Hitters=na.omit(Hitters)\n",
    "dim(Hitters)\n",
    "sum(is.na(Hitters))"
   ]
  },
  {
   "cell_type": "code",
   "execution_count": null,
   "metadata": {
    "collapsed": false
   },
   "outputs": [],
   "source": [
    "library(leaps)\n",
    "regfit.full=regsubsets(Salary~.,data=Hitters)\n",
    "summary(regfit.full)"
   ]
  },
  {
   "cell_type": "code",
   "execution_count": null,
   "metadata": {
    "collapsed": false
   },
   "outputs": [],
   "source": [
    "regfit.full=regsubsets(Salary~.,data=Hitters,nvmax=19)\n",
    "reg.summary=summary(regfit.full)\n",
    "names(reg.summary)\n",
    "reg.summary$rsq"
   ]
  },
  {
   "cell_type": "code",
   "execution_count": null,
   "metadata": {
    "collapsed": false
   },
   "outputs": [],
   "source": [
    "#Use Cp,AIC,BIC, AdjR2 to select best model between diff p#\n",
    "par(mfrow=c(2,2))\n",
    "plot(reg.summary$rss,xlab=\"Number of Variables\",ylab=\"RSS\",type=\"l\") #connect dots with line\n",
    "plot(reg.summary$adjr2,xlab=\"Number of Variables\",ylab=\"Adjusted RSq\",type=\"l\") #connect dots with line\n",
    "#which.max(reg.summary$adjr2)\n",
    "points(11,reg.summary$adjr2[11],col=\"red\",cex=2,pch=20)\n",
    "plot(reg.summary$cp,xlab=\"Number of Variables\",ylab=\"Cp\",type=\"l\") #connect dots with line\n",
    "cp.min=which.min(reg.summary$cp)\n",
    "points(cp.min,reg.summary$cp[cp.min],col=\"red\",cex=2,pch=20)\n",
    "plot(reg.summary$bic,xlab=\"Number of Variables\",ylab=\"BIC\",type=\"l\") #connect dots with line\n",
    "bic.min=which.min(reg.summary$bic)\n",
    "points(bic.min,reg.summary$bic[bic.min],col=\"red\",cex=2,pch=20)"
   ]
  },
  {
   "cell_type": "code",
   "execution_count": null,
   "metadata": {
    "collapsed": false
   },
   "outputs": [],
   "source": [
    "plot(regfit.full,scale=\"r2\")\n",
    "#plot(regfit.full,scale=\"adjr2\")\n",
    "#plot(regfit.full,scale=\"Cp\")\n",
    "#plot(regfit.full,scale=\"bic\")"
   ]
  },
  {
   "cell_type": "code",
   "execution_count": null,
   "metadata": {
    "collapsed": false
   },
   "outputs": [],
   "source": [
    "coef(regfit.full,6)"
   ]
  },
  {
   "cell_type": "markdown",
   "metadata": {},
   "source": [
    "##Forward &Backward Selection"
   ]
  },
  {
   "cell_type": "code",
   "execution_count": null,
   "metadata": {
    "collapsed": false
   },
   "outputs": [],
   "source": [
    "regfit.fwd=regsubsets(Salary~.,data=Hitters,nvmax=19,method=\"forward\")\n",
    "summary(regfit.fwd)\n",
    "regfit.bwd=regsubsets(Salary~.,data=Hitters,nvmax=19,method=\"backward\")\n",
    "summary(regfit.bwd)\n",
    "regfit.bwd$call[[2]]"
   ]
  },
  {
   "cell_type": "code",
   "execution_count": null,
   "metadata": {
    "collapsed": false
   },
   "outputs": [],
   "source": [
    "coef(regfit.full,7)\n",
    "coef(regfit.fwd,7)\n",
    "coef(regfit.bwd,7)\n"
   ]
  },
  {
   "cell_type": "markdown",
   "metadata": {},
   "source": [
    "##best subset selection with validation set"
   ]
  },
  {
   "cell_type": "code",
   "execution_count": null,
   "metadata": {
    "collapsed": false
   },
   "outputs": [],
   "source": [
    "#because regsubsets dont't have predict() function. We have to pull out the coef to do CV\n",
    "set.seed(1)\n",
    "train=sample(c(TRUE,FALSE),nrow(Hitters),rep=T)\n",
    "test=(!train)\n",
    "regfit.best=regsubsets(Salary~.,data=Hitters[train,],nvmax=19)\n",
    "test.mat=model.matrix(Salary~.,Hitters[test,])\n",
    "val.errors=rep(NA,19)\n",
    "for(i in 1:19){\n",
    "    coefi=coef(regfit.best,id=i)\n",
    "    pred=test.mat[,names(coefi)]%*%coefi\n",
    "    val.errors[i]=mean((Hitters$Salary[test]-pred)^2)\n",
    "}\n",
    "val.errors\n",
    "which.min(val.errors)\n",
    "coef(regfit.best,10)"
   ]
  },
  {
   "cell_type": "code",
   "execution_count": null,
   "metadata": {
    "collapsed": true
   },
   "outputs": [],
   "source": [
    "predict.regsubsets=function(object,newdata,id){\n",
    "    form=as.formula(object$call[[2]])\n",
    "    mat=model.matrix(form,newdata)\n",
    "    coefi=coef(object,id=id)\n",
    "    xvars=names(coefi)\n",
    "    mat[,xvars]%*%coefi\n",
    "}"
   ]
  },
  {
   "cell_type": "markdown",
   "metadata": {},
   "source": [
    "##best subset selection with CV"
   ]
  },
  {
   "cell_type": "code",
   "execution_count": null,
   "metadata": {
    "collapsed": false
   },
   "outputs": [],
   "source": [
    "#same here. have to write CV procedures ourself. no prebuid CV in regsubsets\n",
    "k=10\n",
    "set.seed(1)\n",
    "folds=sample(1:k,nrow(Hitters),rep=T)\n",
    "cv.errors=matrix(NA,k,19,dimnames=list(NULL,paste(1:19)))\n",
    "for(j in 1:k){ #use data not in jth fold\n",
    "    best.fit=regsubsets(Salary~.,data=Hitters[folds!=j,],nvmax=19)\n",
    "    for(i in 1:19){\n",
    "        pred=predict.regsubsets(best.fit,Hitters[folds==j,],i)\n",
    "        cv.errors[j,i]=mean((Hitters$Salary[folds==j]-pred)^2)\n",
    "    }\n",
    "}\n",
    "mean.cv.errors=apply(cv.errors,2,mean)\n",
    "plot(mean.cv.errors,type=\"b\")"
   ]
  },
  {
   "cell_type": "markdown",
   "metadata": {},
   "source": [
    "##Ridge"
   ]
  },
  {
   "cell_type": "code",
   "execution_count": null,
   "metadata": {
    "collapsed": false
   },
   "outputs": [],
   "source": [
    "#glmnet()只accept matrix X and response Y, 用model.matrix split一下\n",
    "x=model.matrix(Salary~.,Hitters)[,-1]\n",
    "y=Hitters$Salary\n",
    "library(glmnet)"
   ]
  },
  {
   "cell_type": "code",
   "execution_count": null,
   "metadata": {
    "collapsed": false
   },
   "outputs": [],
   "source": [
    "#Ridge: alpha=0, Lasso: alpha=1. 默认X会standardized,除非standardized=False\n",
    "#the lambda could be a list of numbers, or just a single number. Here range from 10^10 to 10^-2\n",
    "grid=10^seq(10,-2,length=100) \n",
    "ridge.mod=glmnet(x,y,alpha=0,lambda=grid)\n",
    "dim(coef(ridge.mod)) #20 rows of features, 100 columns(vectors) coresponding lambda"
   ]
  },
  {
   "cell_type": "code",
   "execution_count": null,
   "metadata": {
    "collapsed": false
   },
   "outputs": [],
   "source": [
    "#overview of ridge coef with diffrent lambda\n",
    "ridge.mod$lambda[50]\n",
    "coef(ridge.mod)[,50]\n",
    "sqrt(sum(coef(ridge.mod)[-1,50]^2)) #L2 norm without intercept\n",
    "ridge.mod$lambda[60]\n",
    "coef(ridge.mod)[,60]\n",
    "sqrt(sum(coef(ridge.mod)[-1,60]^2)) #L2 norm without intercept"
   ]
  },
  {
   "cell_type": "code",
   "execution_count": null,
   "metadata": {
    "collapsed": false
   },
   "outputs": [],
   "source": [
    "#求特定lambda的coef，这里lambda=50\n",
    "predict(ridge.mod,s=50,type=\"coefficient\")[,1]"
   ]
  },
  {
   "cell_type": "code",
   "execution_count": null,
   "metadata": {
    "collapsed": false
   },
   "outputs": [],
   "source": [
    "#对半分的validation set approach\n",
    "set.seed(1)\n",
    "train=sample(1:nrow(x),nrow(x)/2)\n",
    "test=(-train)\n",
    "y.test=y[test]"
   ]
  },
  {
   "cell_type": "code",
   "execution_count": null,
   "metadata": {
    "collapsed": false
   },
   "outputs": [],
   "source": [
    "#用一般的training set来做ridge \n",
    "ridge.mod=glmnet(x[train,],y[train],alpha=0,lambda=grid,thresh=1e-12)\n",
    "#这里去掉response参数，变为直接产生predicted y vector. 需要newx参数是input\n",
    "ridge.pred=predict(ridge.mod,s=4,newx=x[test,])\n",
    "#计算MSE\n",
    "mean((y.test-ridge.pred)^2)\n",
    "#取lambda=10^10，相当于只取一个斜率\n",
    "ridge.pred=predict(ridge.mod,s=10^10,newx=x[test,])\n",
    "mean((y.test-ridge.pred)^2)"
   ]
  },
  {
   "cell_type": "code",
   "execution_count": null,
   "metadata": {
    "collapsed": false
   },
   "outputs": [],
   "source": [
    "#CV方法来tune lambda, 默认10-fold\n",
    "set.seed(1)\n",
    "cv.out=cv.glmnet(x[train,],y[train],alpha=0)\n",
    "plot(cv.out)\n",
    "bestlam=cv.out$lambda.min"
   ]
  },
  {
   "cell_type": "code",
   "execution_count": null,
   "metadata": {
    "collapsed": false
   },
   "outputs": [],
   "source": [
    "#看一下CV出来的lambda MSE是多少\n",
    "ridge.pred=predict(ridge.mod,s=bestlam,newx=x[test,])\n",
    "mean((ridge.pred-y.test)^2)\n",
    "#用CV求出的lambda重新fit整个model\n",
    "out=glmnet(x,y,alpha=0)\n",
    "predict(out,type=\"coefficient\",s=bestlam)[,1]"
   ]
  },
  {
   "cell_type": "markdown",
   "metadata": {},
   "source": [
    "##Lasso"
   ]
  },
  {
   "cell_type": "code",
   "execution_count": null,
   "metadata": {
    "collapsed": false
   },
   "outputs": [],
   "source": [
    "#直接用alpha=1就可以了\n",
    "lasso.mod=glmnet(x[train,],y[train],alpha=1,lambda=grid)\n",
    "#直接画图可以看每个coef从0到有的过程\n",
    "plot(lasso.mod)"
   ]
  },
  {
   "cell_type": "code",
   "execution_count": null,
   "metadata": {
    "collapsed": false
   },
   "outputs": [],
   "source": [
    "#CV求bestlam\n",
    "set.seed(1)\n",
    "cv.out=cv.glmnet(x[train,],y[train],alpha=1)\n",
    "#plot(cv.out)\n",
    "bestlam=cv.out$lambda.min\n",
    "lasso.pred=predict(lasso.mod,s=bestlam,newx=x[test,])\n",
    "mean((lasso.pred-y.test)^2)"
   ]
  },
  {
   "cell_type": "code",
   "execution_count": null,
   "metadata": {
    "collapsed": false
   },
   "outputs": [],
   "source": [
    "#用bestlam重新fit整个model\n",
    "out=glmnet(x,y,alpha=1,lambda=grid)\n",
    "lasso.coef=predict(out,type=\"coefficients\",s=bestlam)[,1]\n",
    "lasso.coef"
   ]
  },
  {
   "cell_type": "markdown",
   "metadata": {},
   "source": [
    "##PCR"
   ]
  },
  {
   "cell_type": "code",
   "execution_count": null,
   "metadata": {
    "collapsed": false
   },
   "outputs": [],
   "source": [
    "library(pls)"
   ]
  },
  {
   "cell_type": "code",
   "execution_count": null,
   "metadata": {
    "collapsed": false
   },
   "outputs": [],
   "source": [
    "#pcr函数的使用方法和lm差不多,scale开启standardized,10-fold CV\n",
    "set.seed(2)\n",
    "pcr.fit=pcr(Salary~.,data=Hitters,scale=T,validation=\"CV\")\n",
    "#查看CV的root MSE，以及几个components能解释variance的百分之多少\n",
    "summary(pcr.fit)"
   ]
  },
  {
   "cell_type": "code",
   "execution_count": null,
   "metadata": {
    "collapsed": false
   },
   "outputs": [],
   "source": [
    "#画CV图,看图可以选择多少components MSE最低\n",
    "validationplot(pcr.fit,val.type=\"MSEP\")"
   ]
  },
  {
   "cell_type": "code",
   "execution_count": null,
   "metadata": {
    "collapsed": false
   },
   "outputs": [],
   "source": [
    "#套用到validation set上，横向比较PCA与其他selection方法\n",
    "set.seed(1)\n",
    "pcr.fit=pcr(Salary~.,data=Hitters,subset=train,scalt=T,validation=\"CV\")\n",
    "validationplot(pcr.fit,val.type=\"MSEP\")\n",
    "#看图选则ncomp=7\n",
    "pcr.pred=predict(pcr.fit,x[test,],ncomp=7)\n",
    "mean((pcr.pred-y.test)^2)"
   ]
  },
  {
   "cell_type": "code",
   "execution_count": null,
   "metadata": {
    "collapsed": false
   },
   "outputs": [],
   "source": [
    "#fit一个完整的PCA模型，用ncomp=7. \n",
    "pcr.fit=pcr(y~x,scale=T,ncomp=7)\n",
    "#不加CV参数的话，就只有%var explained这个指标了\n",
    "summary(pcr.fit)"
   ]
  },
  {
   "cell_type": "markdown",
   "metadata": {},
   "source": [
    "##PLS"
   ]
  },
  {
   "cell_type": "code",
   "execution_count": null,
   "metadata": {
    "collapsed": false
   },
   "outputs": [],
   "source": [
    "set.seed(1)\n",
    "pls.fit=plsr(Salary~.,data=Hitters,subset=train,scale=T,validation=\"CV\")\n",
    "#pls系列的summary指标都一样，挑一个最好的DF出来\n",
    "summary(pls.fit)\n",
    "validationplot(pls.fit,val.type = \"MSEP\")"
   ]
  },
  {
   "cell_type": "code",
   "execution_count": null,
   "metadata": {
    "collapsed": false
   },
   "outputs": [],
   "source": [
    "#横向比较PLS\n",
    "pls.pred=predict(pls.fit,x[test,],ncomp=2)\n",
    "mean((pls.pred-y.test)^2)"
   ]
  },
  {
   "cell_type": "code",
   "execution_count": null,
   "metadata": {
    "collapsed": false
   },
   "outputs": [],
   "source": [
    "#用完整data fit pls\n",
    "pls.fit=plsr(Salary~.,data=Hitters,scalt=T,ncomp=2)\n",
    "summary(pls.fit)"
   ]
  },
  {
   "cell_type": "markdown",
   "metadata": {},
   "source": [
    "#Problem 8"
   ]
  },
  {
   "cell_type": "code",
   "execution_count": null,
   "metadata": {
    "collapsed": false
   },
   "outputs": [],
   "source": [
    "set.seed(1)\n",
    "X=rnorm(100)\n",
    "eps=rnorm(100)\n",
    "beta0 = 3\n",
    "beta1 = 2\n",
    "beta2 = -3\n",
    "beta3 = 0.3\n",
    "Y = beta0 + beta1 * X + beta2 * X^2 + beta3 * X^3 + eps\n",
    "plot(X,Y)"
   ]
  },
  {
   "cell_type": "code",
   "execution_count": null,
   "metadata": {
    "collapsed": false
   },
   "outputs": [],
   "source": [
    "#best subset selection\n",
    "data.full=data.frame(y=Y,x=X)\n",
    "mod.full=regsubsets(y~poly(x,10,raw=T),data=data.full,nvmax=10)\n",
    "mod.summary=summary(mod.full)"
   ]
  },
  {
   "cell_type": "code",
   "execution_count": null,
   "metadata": {
    "collapsed": false
   },
   "outputs": [],
   "source": [
    "#比较Cp,BIC和adjR^2来选择几个参数的model最好. 可以画图看\n",
    "cp.min=which.min(mod.summary$cp)\n",
    "bic.min=which.min(mod.summary$bic)\n",
    "adjr2.max=which.max(mod.summary$adjr2)\n",
    "# Plot cp, BIC and adjr2\n",
    "par(mfrow=c(2,2))\n",
    "plot(mod.summary$cp, xlab = \"Subset Size\", ylab = \"Cp\", pch = 20, type = \"l\")\n",
    "points(cp.min, mod.summary$cp[cp.min], pch = 4, col = \"red\", lwd = 7)\n",
    "plot(mod.summary$bic, xlab = \"Subset Size\", ylab = \"BIC\", pch = 20, type = \"l\")\n",
    "points(bic.min, mod.summary$bic[bic.min], pch = 4, col = \"red\", lwd = 7)\n",
    "plot(mod.summary$adjr2, xlab = \"Subset Size\", ylab = \"Adjusted R2\", pch = 20, type = \"l\")\n",
    "points(adjr2.max, mod.summary$adjr2[adjr2.max], pch = 4, col = \"red\", lwd = 7)"
   ]
  },
  {
   "cell_type": "code",
   "execution_count": null,
   "metadata": {
    "collapsed": false
   },
   "outputs": [],
   "source": [
    "#看best 3 subsets的结果. 这里选择了X^7而不是X^3\n",
    "coef(mod.full,id=3)"
   ]
  },
  {
   "cell_type": "code",
   "execution_count": null,
   "metadata": {
    "collapsed": false
   },
   "outputs": [],
   "source": [
    "#forward step & backward step\n",
    "mod.fwd = regsubsets(y ~ poly(x, 10, raw = T), data = data.full, nvmax = 10, method = \"forward\")\n",
    "mod.bwd = regsubsets(y ~ poly(x, 10, raw = T), data = data.full, nvmax = 10, method = \"backward\")\n",
    "fwd.summary = summary(mod.fwd)\n",
    "bwd.summary = summary(mod.bwd)\n",
    "which.min(fwd.summary$cp)\n",
    "which.min(fwd.summary$bic)\n",
    "which.max(fwd.summary$adjr2)\n",
    "which.min(bwd.summary$cp)\n",
    "which.min(bwd.summary$bic)\n",
    "which.max(bwd.summary$adjr2)\n",
    "#画图看统计量\n",
    "par(mfrow=c(3,2))\n",
    "plot(fwd.summary$cp, xlab = \"Subset Size\", ylab = \"Cp\", pch = 20, type = \"l\")\n",
    "points(3, fwd.summary$cp[3], pch = 4, col = \"red\", lwd = 7)\n",
    "plot(fwd.summary$bic, xlab = \"Subset Size\", ylab = \"BIC\", pch = 20, type = \"l\")\n",
    "points(3, fwd.summary$bic[3], pch = 4, col = \"red\", lwd = 7)\n",
    "plot(fwd.summary$adjr2, xlab = \"Subset Size\", ylab = \"Adjusted R2\", pch = 20, type = \"l\")\n",
    "points(3, fwd.summary$adjr2[3], pch = 4, col = \"red\", lwd = 7)\n",
    "plot(bwd.summary$cp, xlab = \"Subset Size\", ylab = \"Cp\", pch = 20, type = \"l\")\n",
    "points(3, bwd.summary$cp[3], pch = 4, col = \"red\", lwd = 7)\n",
    "plot(bwd.summary$bic, xlab = \"Subset Size\", ylab = \"BIC\", pch = 20, type = \"l\")\n",
    "points(3, bwd.summary$bic[3], pch = 4, col = \"red\", lwd = 7)\n",
    "plot(bwd.summary$adjr2, xlab = \"Subset Size\", ylab = \"Adjusted R2\", pch = 20, type = \"l\")\n",
    "points(4, bwd.summary$adjr2[4], pch = 4, col = \"red\", lwd = 7)"
   ]
  },
  {
   "cell_type": "code",
   "execution_count": null,
   "metadata": {
    "collapsed": false
   },
   "outputs": [],
   "source": [
    "#看最终结果\n",
    "coef(mod.fwd,id=3)\n",
    "coef(mod.bwd,id=3)\n",
    "coef(mod.bwd,id=4)"
   ]
  },
  {
   "cell_type": "code",
   "execution_count": null,
   "metadata": {
    "collapsed": false
   },
   "outputs": [],
   "source": [
    "#lasso + CV\n",
    "#先build X matrix和response vecotr Y. [,-1]的原因是第一列是intercept都是1，不需要作为input\n",
    "xmat=model.matrix(Y~poly(X,10,raw=T))[,-1]\n",
    "mod.lasso=cv.glmnet(xmat,Y,alpha=1)\n",
    "best.lambda=mod.lasso$lambda.min\n",
    "best.lambda\n",
    "#plot(mod.lasso)"
   ]
  },
  {
   "cell_type": "code",
   "execution_count": null,
   "metadata": {
    "collapsed": false
   },
   "outputs": [],
   "source": [
    "#求出best lambda之后重新lasso fit这个model,用predict输出coef\n",
    "best.model=glmnet(xmat,Y,alpha=1)\n",
    "predict(best.model,s=best.lambda,type=\"coefficients\")"
   ]
  },
  {
   "cell_type": "code",
   "execution_count": null,
   "metadata": {
    "collapsed": false
   },
   "outputs": [],
   "source": [
    "#将Y变形，再试一次\n",
    "beta7 = 7\n",
    "Y = beta0 + beta7 * X^7 + eps\n",
    "#plot(X,Y)"
   ]
  },
  {
   "cell_type": "code",
   "execution_count": null,
   "metadata": {
    "collapsed": false
   },
   "outputs": [],
   "source": [
    "#best subset\n",
    "data.full=data.frame(y=Y,x=X)\n",
    "mod.full = regsubsets(y ~ poly(x, 10, raw = T), data = data.full, nvmax = 10)\n",
    "mod.summary = summary(mod.full)\n",
    "which.min(mod.summary$cp)\n",
    "which.min(mod.summary$bic)\n",
    "which.max(mod.summary$adjr2)"
   ]
  },
  {
   "cell_type": "code",
   "execution_count": null,
   "metadata": {
    "collapsed": false
   },
   "outputs": [],
   "source": [
    "#看coef结果\n",
    "coef(mod.full,id=1)\n",
    "coef(mod.full,id=2)\n",
    "coef(mod.full,id=4)"
   ]
  },
  {
   "cell_type": "code",
   "execution_count": null,
   "metadata": {
    "collapsed": false
   },
   "outputs": [],
   "source": [
    "#lasso \n",
    "xmat=model.matrix(Y~poly(X,10,raw=T))[,-1]\n",
    "mod.lasso=cv.glmnet(xmat,Y,alpha=1)\n",
    "best.lambda=mod.lasso$lambda.min\n",
    "best.lambda\n",
    "best.model=glmnet(xmat,Y,alpha=1)\n",
    "predict(best.model,s=best.lambda,type=\"coefficients\")"
   ]
  },
  {
   "cell_type": "markdown",
   "metadata": {},
   "source": [
    "#Problem9"
   ]
  },
  {
   "cell_type": "code",
   "execution_count": null,
   "metadata": {
    "collapsed": false
   },
   "outputs": [],
   "source": [
    "library(ISLR)\n",
    "summary(College)"
   ]
  },
  {
   "cell_type": "code",
   "execution_count": null,
   "metadata": {
    "collapsed": false
   },
   "outputs": [],
   "source": [
    "set.seed(11)\n",
    "train.size=nrow(College)/2\n",
    "train=sample(1:nrow(College),train.size)\n",
    "test=-train\n",
    "College.train=College[train,]\n",
    "College.test=College[test,]\n",
    "head(College.train)\n",
    "dim(College.train)\n",
    "dim(College.test)"
   ]
  },
  {
   "cell_type": "code",
   "execution_count": null,
   "metadata": {
    "collapsed": false
   },
   "outputs": [],
   "source": [
    "#linear regression\n",
    "lm.fit=lm(Apps~.,data=College.train)\n",
    "lm.predict=predict(lm.fit,College.test)\n",
    "#Calc test MSE\n",
    "mean((lm.predict-College.test$Apps)^2)"
   ]
  },
  {
   "cell_type": "code",
   "execution_count": null,
   "metadata": {
    "collapsed": false
   },
   "outputs": [],
   "source": [
    "#ridge with CV\n",
    "library(glmnet)\n",
    "train.mat=model.matrix(Apps~.,data=College.train)\n",
    "test.mat=model.matrix(Apps~.,data=College.test)\n",
    "grid=10^seq(4,-2,length=100)\n",
    "mod.ridge=cv.glmnet(train.mat,College.train$Apps,alpha=0,lambda=grid,thresh=1e-12)\n",
    "lambda.best=mod.ridge$lambda.min\n",
    "lambda.best"
   ]
  },
  {
   "cell_type": "code",
   "execution_count": null,
   "metadata": {
    "collapsed": false
   },
   "outputs": [],
   "source": [
    "ridge.pred=predict(mod.ridge,newx=test.mat,s=lambda.best)\n",
    "#Calc test MSE\n",
    "mean((ridge.pred-College.test$Apps)^2)"
   ]
  },
  {
   "cell_type": "markdown",
   "metadata": {},
   "source": [
    "ridge的MSE比普通least square还要高一点.."
   ]
  },
  {
   "cell_type": "code",
   "execution_count": null,
   "metadata": {
    "collapsed": false
   },
   "outputs": [],
   "source": [
    "#lasso with CV\n",
    "mod.lasso=cv.glmnet(train.mat,College.train$Apps,alpha=1,lambda=grid,thresh=1e-12)\n",
    "lambda.best=mod.lasso$lambda.min\n",
    "lambda.best\n",
    "lasso.pred=predict(mod.lasso,newx=test.mat,s=lambda.best)\n",
    "#Calc test MSE\n",
    "mean((lasso.pred-College.test$Apps)^2)"
   ]
  },
  {
   "cell_type": "markdown",
   "metadata": {},
   "source": [
    "结果也是比普通least square高，比ridge也高一点"
   ]
  },
  {
   "cell_type": "code",
   "execution_count": null,
   "metadata": {
    "collapsed": false
   },
   "outputs": [],
   "source": [
    "#coefficients using the best lambda and full data set.\n",
    "mod.lasso=glmnet(model.matrix(Apps~.,data=College),College$Apps,alpha=1)\n",
    "predict(mod.lasso,s=lambda.best,type=\"coefficient\")\n",
    "#plot(mod.lasso)"
   ]
  },
  {
   "cell_type": "code",
   "execution_count": null,
   "metadata": {
    "collapsed": false
   },
   "outputs": [],
   "source": [
    "#PCR with CV choose M\n",
    "library(pls)\n",
    "pcr.fit=pcr(Apps~.,data=College.train,scale=T,validation=\"CV\")\n",
    "validationplot(pcr.fit,val.type=\"MSEP\")"
   ]
  },
  {
   "cell_type": "code",
   "execution_count": null,
   "metadata": {
    "collapsed": false
   },
   "outputs": [],
   "source": [
    "pcr.pred = predict(pcr.fit, College.test, ncomp=10)\n",
    "mean((College.test$Apps - pcr.pred)^2)"
   ]
  },
  {
   "cell_type": "code",
   "execution_count": null,
   "metadata": {
    "collapsed": false
   },
   "outputs": [],
   "source": [
    "#PLS with CV\n",
    "pls.fit = plsr(Apps~., data=College.train, scale=T, validation=\"CV\")\n",
    "validationplot(pls.fit, val.type=\"MSEP\")\n",
    "pls.pred = predict(pls.fit, College.test, ncomp=10)\n",
    "mean((College.test$Apps - pls.pred)^2)"
   ]
  },
  {
   "cell_type": "markdown",
   "metadata": {},
   "source": [
    "PLS在这里表现slightly better"
   ]
  },
  {
   "cell_type": "code",
   "execution_count": null,
   "metadata": {
    "collapsed": false
   },
   "outputs": [],
   "source": [
    "#summary results，用test R square\n",
    "test.avg = mean(College.test[, \"Apps\"])\n",
    "lm.test.r2 = 1 - mean((College.test[, \"Apps\"] - lm.predict)^2) /mean((College.test[, \"Apps\"] - test.avg)^2)\n",
    "ridge.test.r2 = 1 - mean((College.test[, \"Apps\"] - ridge.pred)^2) /mean((College.test[, \"Apps\"] - test.avg)^2)\n",
    "lasso.test.r2 = 1 - mean((College.test[, \"Apps\"] - lasso.pred)^2) /mean((College.test[, \"Apps\"] - test.avg)^2)\n",
    "pcr.test.r2 = 1 - mean((College.test[, \"Apps\"] - data.frame(pcr.pred))^2) /mean((College.test[, \"Apps\"] - test.avg)^2)\n",
    "pls.test.r2 = 1 - mean((College.test[, \"Apps\"] - data.frame(pls.pred))^2) /mean((College.test[, \"Apps\"] - test.avg)^2)\n",
    "barplot(c(lm.test.r2, ridge.test.r2, lasso.test.r2, pcr.test.r2, pls.test.r2), col=\"red\", names.arg=c(\"OLS\", \"Ridge\", \"Lasso\", \"PCR\", \"PLS\"), main=\"Test R-squared\")"
   ]
  },
  {
   "cell_type": "markdown",
   "metadata": {},
   "source": [
    "#Problem 10"
   ]
  },
  {
   "cell_type": "code",
   "execution_count": null,
   "metadata": {
    "collapsed": false
   },
   "outputs": [],
   "source": [
    "#生成数据集Y=XB+e，p=20,n=1000,但是B里面有一些系数是0. 其他的的数据就都用norm来填充\n",
    "set.seed(1)\n",
    "p=20\n",
    "n=1000\n",
    "x=matrix(rnorm(n*p),n,p)\n",
    "B=rnorm(p)\n",
    "eps=rnorm(n)\n",
    "B[c(3,4,9,19,10)]=0\n",
    "y=x%*%B+eps\n",
    "head(B)"
   ]
  },
  {
   "cell_type": "code",
   "execution_count": null,
   "metadata": {
    "collapsed": true
   },
   "outputs": [],
   "source": [
    "train=sample(1:n,100)\n",
    "test=-train\n",
    "x.train=x[train,]\n",
    "y.train=y[train]\n",
    "x.test=x[test,]\n",
    "y.test=y[test]"
   ]
  },
  {
   "cell_type": "code",
   "execution_count": null,
   "metadata": {
    "collapsed": false
   },
   "outputs": [],
   "source": [
    "x_cols = colnames(x, do.NULL = FALSE, prefix = \"x.\")\n",
    "x_cols\n"
   ]
  },
  {
   "cell_type": "code",
   "execution_count": null,
   "metadata": {
    "collapsed": false
   },
   "outputs": [],
   "source": [
    "#best subset selection\n",
    "library(leaps)\n",
    "regfit.full = regsubsets(y ~ ., data = data.frame(x = x.train, y = y.train), nvmax = p)\n",
    "val.errors=rep(NA,p)\n",
    "for(i in 1:p){\n",
    "    coefi=coef(regfit.full,id=i)\n",
    "    pred=as.matrix(x.train[, x_cols %in% names(coefi)]) %*% coefi[names(coefi) %in% x_cols]\n",
    "    val.errors[i]=mean((pred-y.train)^2)\n",
    "}\n",
    "plot(val.errors, ylab = \"Training MSE\", pch = 19, type = \"b\")"
   ]
  },
  {
   "cell_type": "code",
   "execution_count": null,
   "metadata": {
    "collapsed": false
   },
   "outputs": [],
   "source": [
    "val.errors=rep(NA,p)\n",
    "for(i in 1:p){\n",
    "    coefi=coef(regfit.full,id=i)\n",
    "    pred=as.matrix(x.test[, x_cols %in% names(coefi)]) %*% coefi[names(coefi) %in% x_cols]\n",
    "    val.errors[i]=mean((pred-y.test)^2)\n",
    "}\n",
    "plot(val.errors, ylab = \"Test MSE\", pch = 19, type = \"b\")\n",
    "which.min(val.errors)"
   ]
  },
  {
   "cell_type": "code",
   "execution_count": null,
   "metadata": {
    "collapsed": false
   },
   "outputs": [],
   "source": [
    "coef(regfit.full,id=14)"
   ]
  },
  {
   "cell_type": "markdown",
   "metadata": {},
   "source": [
    "#Problem 11"
   ]
  },
  {
   "cell_type": "code",
   "execution_count": 56,
   "metadata": {
    "collapsed": false
   },
   "outputs": [
    {
     "data": {
      "text/plain": [
       "      crim                zn             indus            chas        \n",
       " Min.   : 0.00632   Min.   :  0.00   Min.   : 0.46   Min.   :0.00000  \n",
       " 1st Qu.: 0.08204   1st Qu.:  0.00   1st Qu.: 5.19   1st Qu.:0.00000  \n",
       " Median : 0.25651   Median :  0.00   Median : 9.69   Median :0.00000  \n",
       " Mean   : 3.61352   Mean   : 11.36   Mean   :11.14   Mean   :0.06917  \n",
       " 3rd Qu.: 3.67708   3rd Qu.: 12.50   3rd Qu.:18.10   3rd Qu.:0.00000  \n",
       " Max.   :88.97620   Max.   :100.00   Max.   :27.74   Max.   :1.00000  \n",
       "      nox               rm             age              dis        \n",
       " Min.   :0.3850   Min.   :3.561   Min.   :  2.90   Min.   : 1.130  \n",
       " 1st Qu.:0.4490   1st Qu.:5.886   1st Qu.: 45.02   1st Qu.: 2.100  \n",
       " Median :0.5380   Median :6.208   Median : 77.50   Median : 3.207  \n",
       " Mean   :0.5547   Mean   :6.285   Mean   : 68.57   Mean   : 3.795  \n",
       " 3rd Qu.:0.6240   3rd Qu.:6.623   3rd Qu.: 94.08   3rd Qu.: 5.188  \n",
       " Max.   :0.8710   Max.   :8.780   Max.   :100.00   Max.   :12.127  \n",
       "      rad              tax           ptratio          black       \n",
       " Min.   : 1.000   Min.   :187.0   Min.   :12.60   Min.   :  0.32  \n",
       " 1st Qu.: 4.000   1st Qu.:279.0   1st Qu.:17.40   1st Qu.:375.38  \n",
       " Median : 5.000   Median :330.0   Median :19.05   Median :391.44  \n",
       " Mean   : 9.549   Mean   :408.2   Mean   :18.46   Mean   :356.67  \n",
       " 3rd Qu.:24.000   3rd Qu.:666.0   3rd Qu.:20.20   3rd Qu.:396.23  \n",
       " Max.   :24.000   Max.   :711.0   Max.   :22.00   Max.   :396.90  \n",
       "     lstat            medv      \n",
       " Min.   : 1.73   Min.   : 5.00  \n",
       " 1st Qu.: 6.95   1st Qu.:17.02  \n",
       " Median :11.36   Median :21.20  \n",
       " Mean   :12.65   Mean   :22.53  \n",
       " 3rd Qu.:16.95   3rd Qu.:25.00  \n",
       " Max.   :37.97   Max.   :50.00  "
      ]
     },
     "execution_count": 56,
     "metadata": {},
     "output_type": "execute_result"
    },
    {
     "data": {
      "text/html": [
       "<ol class=list-inline>\n",
       "\t<li>506</li>\n",
       "\t<li>14</li>\n",
       "</ol>\n"
      ],
      "text/latex": [
       "\\begin{enumerate*}\n",
       "\\item 506\n",
       "\\item 14\n",
       "\\end{enumerate*}\n"
      ],
      "text/markdown": [
       "1. 506\n",
       "2. 14\n",
       "\n",
       "\n"
      ],
      "text/plain": [
       "[1] 506  14"
      ]
     },
     "execution_count": 56,
     "metadata": {},
     "output_type": "execute_result"
    }
   ],
   "source": [
    "library(MASS)\n",
    "set.seed(1)\n",
    "summary(Boston)\n",
    "dim(Boston)"
   ]
  },
  {
   "cell_type": "code",
   "execution_count": 58,
   "metadata": {
    "collapsed": false
   },
   "outputs": [
    {
     "data": {
      "text/html": [
       "<strong>12:</strong> 12"
      ],
      "text/latex": [
       "\\textbf{12:} 12"
      ],
      "text/markdown": [
       "**12:** 12"
      ],
      "text/plain": [
       "12 \n",
       "12 "
      ]
     },
     "execution_count": 58,
     "metadata": {},
     "output_type": "execute_result"
    },
    {
     "data": {
      "application/pdf": "[encoded data removed]",
      "image/jpeg": "[encoded data removed]",
      "image/png": "[encoded data removed]",
      "image/svg+xml": [
       "<?xml version=\"1.0\" encoding=\"UTF-8\"?>\n",
       "<svg xmlns=\"http://www.w3.org/2000/svg\" xmlns:xlink=\"http://www.w3.org/1999/xlink\" width=\"504pt\" height=\"504pt\" viewBox=\"0 0 504 504\" version=\"1.1\">\n",
       "<defs>\n",
       "<g>\n",
       "<symbol overflow=\"visible\" id=\"glyph0-0\">\n",
       "<path style=\"stroke:none;\" d=\"M 0.390625 0 L 0.390625 -8.609375 L 7.21875 -8.609375 L 7.21875 0 Z M 6.140625 -1.078125 L 6.140625 -7.53125 L 1.46875 -7.53125 L 1.46875 -1.078125 Z \"/>\n",
       "</symbol>\n",
       "<symbol overflow=\"visible\" id=\"glyph0-1\">\n",
       "<path style=\"stroke:none;\" d=\"M 0.375 0 C 0.414062 -0.71875 0.566406 -1.34375 0.828125 -1.875 C 1.085938 -2.414062 1.59375 -2.90625 2.34375 -3.34375 L 3.46875 -4 C 3.96875 -4.289062 4.320312 -4.539062 4.53125 -4.75 C 4.851562 -5.070312 5.015625 -5.441406 5.015625 -5.859375 C 5.015625 -6.347656 4.863281 -6.734375 4.5625 -7.015625 C 4.269531 -7.304688 3.882812 -7.453125 3.40625 -7.453125 C 2.675781 -7.453125 2.175781 -7.179688 1.90625 -6.640625 C 1.75 -6.335938 1.664062 -5.929688 1.65625 -5.421875 L 0.578125 -5.421875 C 0.585938 -6.148438 0.722656 -6.742188 0.984375 -7.203125 C 1.441406 -8.015625 2.25 -8.421875 3.40625 -8.421875 C 4.363281 -8.421875 5.0625 -8.160156 5.5 -7.640625 C 5.945312 -7.117188 6.171875 -6.539062 6.171875 -5.90625 C 6.171875 -5.238281 5.9375 -4.664062 5.46875 -4.1875 C 5.195312 -3.90625 4.707031 -3.566406 4 -3.171875 L 3.1875 -2.734375 C 2.8125 -2.523438 2.515625 -2.320312 2.296875 -2.125 C 1.898438 -1.789062 1.648438 -1.414062 1.546875 -1 L 6.140625 -1 L 6.140625 0 Z \"/>\n",
       "</symbol>\n",
       "<symbol overflow=\"visible\" id=\"glyph0-2\">\n",
       "<path style=\"stroke:none;\" d=\"M 3.96875 -2.96875 L 3.96875 -6.78125 L 1.28125 -2.96875 Z M 3.984375 0 L 3.984375 -2.046875 L 0.3125 -2.046875 L 0.3125 -3.078125 L 4.15625 -8.421875 L 5.046875 -8.421875 L 5.046875 -2.96875 L 6.28125 -2.96875 L 6.28125 -2.046875 L 5.046875 -2.046875 L 5.046875 0 Z \"/>\n",
       "</symbol>\n",
       "<symbol overflow=\"visible\" id=\"glyph0-3\">\n",
       "<path style=\"stroke:none;\" d=\"M 3.515625 -8.421875 C 4.453125 -8.421875 5.101562 -8.175781 5.46875 -7.6875 C 5.84375 -7.207031 6.03125 -6.707031 6.03125 -6.1875 L 4.984375 -6.1875 C 4.921875 -6.519531 4.820312 -6.78125 4.6875 -6.96875 C 4.425781 -7.320312 4.039062 -7.5 3.53125 -7.5 C 2.9375 -7.5 2.460938 -7.222656 2.109375 -6.671875 C 1.765625 -6.128906 1.578125 -5.351562 1.546875 -4.34375 C 1.785156 -4.695312 2.085938 -4.960938 2.453125 -5.140625 C 2.785156 -5.296875 3.160156 -5.375 3.578125 -5.375 C 4.285156 -5.375 4.898438 -5.148438 5.421875 -4.703125 C 5.941406 -4.253906 6.203125 -3.582031 6.203125 -2.6875 C 6.203125 -1.925781 5.953125 -1.25 5.453125 -0.65625 C 4.960938 -0.0703125 4.257812 0.21875 3.34375 0.21875 C 2.550781 0.21875 1.867188 -0.078125 1.296875 -0.671875 C 0.734375 -1.273438 0.453125 -2.28125 0.453125 -3.6875 C 0.453125 -4.726562 0.578125 -5.613281 0.828125 -6.34375 C 1.316406 -7.726562 2.210938 -8.421875 3.515625 -8.421875 Z M 3.4375 -0.71875 C 3.988281 -0.71875 4.398438 -0.90625 4.671875 -1.28125 C 4.953125 -1.65625 5.09375 -2.097656 5.09375 -2.609375 C 5.09375 -3.035156 4.96875 -3.441406 4.71875 -3.828125 C 4.476562 -4.210938 4.03125 -4.40625 3.375 -4.40625 C 2.925781 -4.40625 2.53125 -4.253906 2.1875 -3.953125 C 1.84375 -3.660156 1.671875 -3.210938 1.671875 -2.609375 C 1.671875 -2.078125 1.828125 -1.628906 2.140625 -1.265625 C 2.453125 -0.898438 2.882812 -0.71875 3.4375 -0.71875 Z \"/>\n",
       "</symbol>\n",
       "<symbol overflow=\"visible\" id=\"glyph0-4\">\n",
       "<path style=\"stroke:none;\" d=\"M 3.265625 -4.875 C 3.734375 -4.875 4.097656 -5.003906 4.359375 -5.265625 C 4.617188 -5.523438 4.75 -5.832031 4.75 -6.1875 C 4.75 -6.5 4.625 -6.785156 4.375 -7.046875 C 4.125 -7.316406 3.742188 -7.453125 3.234375 -7.453125 C 2.722656 -7.453125 2.351562 -7.316406 2.125 -7.046875 C 1.894531 -6.785156 1.78125 -6.484375 1.78125 -6.140625 C 1.78125 -5.742188 1.925781 -5.429688 2.21875 -5.203125 C 2.519531 -4.984375 2.867188 -4.875 3.265625 -4.875 Z M 3.328125 -0.71875 C 3.816406 -0.71875 4.222656 -0.847656 4.546875 -1.109375 C 4.867188 -1.378906 5.03125 -1.773438 5.03125 -2.296875 C 5.03125 -2.835938 4.863281 -3.25 4.53125 -3.53125 C 4.195312 -3.8125 3.769531 -3.953125 3.25 -3.953125 C 2.75 -3.953125 2.335938 -3.804688 2.015625 -3.515625 C 1.703125 -3.234375 1.546875 -2.835938 1.546875 -2.328125 C 1.546875 -1.890625 1.691406 -1.507812 1.984375 -1.1875 C 2.273438 -0.875 2.722656 -0.71875 3.328125 -0.71875 Z M 1.828125 -4.46875 C 1.535156 -4.59375 1.304688 -4.738281 1.140625 -4.90625 C 0.835938 -5.21875 0.6875 -5.625 0.6875 -6.125 C 0.6875 -6.75 0.910156 -7.285156 1.359375 -7.734375 C 1.816406 -8.191406 2.457031 -8.421875 3.28125 -8.421875 C 4.09375 -8.421875 4.722656 -8.207031 5.171875 -7.78125 C 5.628906 -7.351562 5.859375 -6.859375 5.859375 -6.296875 C 5.859375 -5.773438 5.726562 -5.347656 5.46875 -5.015625 C 5.320312 -4.835938 5.09375 -4.660156 4.78125 -4.484375 C 5.125 -4.328125 5.394531 -4.144531 5.59375 -3.9375 C 5.96875 -3.539062 6.15625 -3.03125 6.15625 -2.40625 C 6.15625 -1.664062 5.90625 -1.039062 5.40625 -0.53125 C 4.914062 -0.0195312 4.21875 0.234375 3.3125 0.234375 C 2.488281 0.234375 1.796875 0.015625 1.234375 -0.421875 C 0.671875 -0.867188 0.390625 -1.515625 0.390625 -2.359375 C 0.390625 -2.847656 0.507812 -3.273438 0.75 -3.640625 C 0.988281 -4.003906 1.347656 -4.28125 1.828125 -4.46875 Z \"/>\n",
       "</symbol>\n",
       "<symbol overflow=\"visible\" id=\"glyph0-5\">\n",
       "<path style=\"stroke:none;\" d=\"M 1.15625 -5.9375 L 1.15625 -6.75 C 1.914062 -6.820312 2.441406 -6.945312 2.734375 -7.125 C 3.035156 -7.300781 3.265625 -7.710938 3.421875 -8.359375 L 4.25 -8.359375 L 4.25 0 L 3.125 0 L 3.125 -5.9375 Z \"/>\n",
       "</symbol>\n",
       "<symbol overflow=\"visible\" id=\"glyph0-6\">\n",
       "<path style=\"stroke:none;\" d=\"M 3.25 -8.390625 C 4.332031 -8.390625 5.117188 -7.941406 5.609375 -7.046875 C 5.984375 -6.359375 6.171875 -5.410156 6.171875 -4.203125 C 6.171875 -3.066406 6 -2.125 5.65625 -1.375 C 5.164062 -0.300781 4.359375 0.234375 3.234375 0.234375 C 2.234375 0.234375 1.484375 -0.203125 0.984375 -1.078125 C 0.578125 -1.816406 0.375 -2.800781 0.375 -4.03125 C 0.375 -4.976562 0.5 -5.796875 0.75 -6.484375 C 1.207031 -7.753906 2.039062 -8.390625 3.25 -8.390625 Z M 3.234375 -0.734375 C 3.785156 -0.734375 4.222656 -0.972656 4.546875 -1.453125 C 4.867188 -1.941406 5.03125 -2.847656 5.03125 -4.171875 C 5.03125 -5.117188 4.910156 -5.898438 4.671875 -6.515625 C 4.441406 -7.128906 3.988281 -7.4375 3.3125 -7.4375 C 2.6875 -7.4375 2.226562 -7.144531 1.9375 -6.5625 C 1.65625 -5.976562 1.515625 -5.117188 1.515625 -3.984375 C 1.515625 -3.128906 1.609375 -2.441406 1.796875 -1.921875 C 2.078125 -1.128906 2.554688 -0.734375 3.234375 -0.734375 Z \"/>\n",
       "</symbol>\n",
       "<symbol overflow=\"visible\" id=\"glyph0-7\">\n",
       "<path style=\"stroke:none;\" d=\"M 1.171875 -8.609375 L 2.359375 -8.609375 L 2.359375 0 L 1.171875 0 Z \"/>\n",
       "</symbol>\n",
       "<symbol overflow=\"visible\" id=\"glyph0-8\">\n",
       "<path style=\"stroke:none;\" d=\"M 0.78125 -6.28125 L 1.78125 -6.28125 L 1.78125 -5.390625 C 2.070312 -5.753906 2.382812 -6.015625 2.71875 -6.171875 C 3.050781 -6.335938 3.421875 -6.421875 3.828125 -6.421875 C 4.710938 -6.421875 5.3125 -6.109375 5.625 -5.484375 C 5.800781 -5.140625 5.890625 -4.65625 5.890625 -4.03125 L 5.890625 0 L 4.8125 0 L 4.8125 -3.953125 C 4.8125 -4.335938 4.753906 -4.644531 4.640625 -4.875 C 4.453125 -5.269531 4.113281 -5.46875 3.625 -5.46875 C 3.375 -5.46875 3.171875 -5.441406 3.015625 -5.390625 C 2.722656 -5.304688 2.46875 -5.132812 2.25 -4.875 C 2.070312 -4.664062 1.957031 -4.453125 1.90625 -4.234375 C 1.851562 -4.015625 1.828125 -3.695312 1.828125 -3.28125 L 1.828125 0 L 0.78125 0 Z M 3.25 -6.421875 Z \"/>\n",
       "</symbol>\n",
       "<symbol overflow=\"visible\" id=\"glyph0-9\">\n",
       "<path style=\"stroke:none;\" d=\"M 1.4375 -3.0625 C 1.4375 -2.394531 1.578125 -1.832031 1.859375 -1.375 C 2.148438 -0.925781 2.609375 -0.703125 3.234375 -0.703125 C 3.722656 -0.703125 4.125 -0.910156 4.4375 -1.328125 C 4.757812 -1.742188 4.921875 -2.347656 4.921875 -3.140625 C 4.921875 -3.929688 4.753906 -4.515625 4.421875 -4.890625 C 4.097656 -5.273438 3.703125 -5.46875 3.234375 -5.46875 C 2.703125 -5.46875 2.269531 -5.265625 1.9375 -4.859375 C 1.601562 -4.453125 1.4375 -3.851562 1.4375 -3.0625 Z M 3.03125 -6.390625 C 3.507812 -6.390625 3.910156 -6.285156 4.234375 -6.078125 C 4.421875 -5.960938 4.632812 -5.757812 4.875 -5.46875 L 4.875 -8.640625 L 5.890625 -8.640625 L 5.890625 0 L 4.9375 0 L 4.9375 -0.875 C 4.695312 -0.488281 4.40625 -0.207031 4.0625 -0.03125 C 3.726562 0.132812 3.34375 0.21875 2.90625 0.21875 C 2.207031 0.21875 1.601562 -0.0703125 1.09375 -0.65625 C 0.582031 -1.25 0.328125 -2.03125 0.328125 -3 C 0.328125 -3.914062 0.5625 -4.707031 1.03125 -5.375 C 1.5 -6.050781 2.164062 -6.390625 3.03125 -6.390625 Z \"/>\n",
       "</symbol>\n",
       "<symbol overflow=\"visible\" id=\"glyph0-10\">\n",
       "<path style=\"stroke:none;\" d=\"M 3.390625 -6.421875 C 3.835938 -6.421875 4.269531 -6.316406 4.6875 -6.109375 C 5.101562 -5.898438 5.421875 -5.628906 5.640625 -5.296875 C 5.847656 -4.972656 5.988281 -4.601562 6.0625 -4.1875 C 6.125 -3.894531 6.15625 -3.429688 6.15625 -2.796875 L 1.546875 -2.796875 C 1.566406 -2.160156 1.71875 -1.648438 2 -1.265625 C 2.28125 -0.878906 2.71875 -0.6875 3.3125 -0.6875 C 3.863281 -0.6875 4.300781 -0.867188 4.625 -1.234375 C 4.8125 -1.441406 4.945312 -1.6875 5.03125 -1.96875 L 6.0625 -1.96875 C 6.039062 -1.738281 5.953125 -1.484375 5.796875 -1.203125 C 5.640625 -0.921875 5.46875 -0.6875 5.28125 -0.5 C 4.957031 -0.1875 4.554688 0.0195312 4.078125 0.125 C 3.828125 0.1875 3.539062 0.21875 3.21875 0.21875 C 2.4375 0.21875 1.773438 -0.0625 1.234375 -0.625 C 0.691406 -1.195312 0.421875 -1.992188 0.421875 -3.015625 C 0.421875 -4.023438 0.691406 -4.84375 1.234375 -5.46875 C 1.785156 -6.101562 2.503906 -6.421875 3.390625 -6.421875 Z M 5.0625 -3.640625 C 5.019531 -4.097656 4.921875 -4.460938 4.765625 -4.734375 C 4.484375 -5.242188 4.003906 -5.5 3.328125 -5.5 C 2.835938 -5.5 2.425781 -5.320312 2.09375 -4.96875 C 1.769531 -4.625 1.597656 -4.179688 1.578125 -3.640625 Z M 3.28125 -6.421875 Z \"/>\n",
       "</symbol>\n",
       "<symbol overflow=\"visible\" id=\"glyph0-11\">\n",
       "<path style=\"stroke:none;\" d=\"M 0.171875 -6.28125 L 1.546875 -6.28125 L 2.984375 -4.0625 L 4.4375 -6.28125 L 5.71875 -6.25 L 3.609375 -3.21875 L 5.8125 0 L 4.46875 0 L 2.90625 -2.359375 L 1.40625 0 L 0.0625 0 L 2.28125 -3.21875 Z \"/>\n",
       "</symbol>\n",
       "<symbol overflow=\"visible\" id=\"glyph1-0\">\n",
       "<path style=\"stroke:none;\" d=\"M 0 -0.390625 L -8.609375 -0.390625 L -8.609375 -7.21875 L 0 -7.21875 Z M -1.078125 -6.140625 L -7.53125 -6.140625 L -7.53125 -1.46875 L -1.078125 -1.46875 Z \"/>\n",
       "</symbol>\n",
       "<symbol overflow=\"visible\" id=\"glyph1-1\">\n",
       "<path style=\"stroke:none;\" d=\"M -8.421875 -3.515625 C -8.421875 -4.453125 -8.175781 -5.101562 -7.6875 -5.46875 C -7.207031 -5.84375 -6.707031 -6.03125 -6.1875 -6.03125 L -6.1875 -4.984375 C -6.519531 -4.921875 -6.78125 -4.820312 -6.96875 -4.6875 C -7.320312 -4.425781 -7.5 -4.039062 -7.5 -3.53125 C -7.5 -2.9375 -7.222656 -2.460938 -6.671875 -2.109375 C -6.128906 -1.765625 -5.351562 -1.578125 -4.34375 -1.546875 C -4.695312 -1.785156 -4.960938 -2.085938 -5.140625 -2.453125 C -5.296875 -2.785156 -5.375 -3.160156 -5.375 -3.578125 C -5.375 -4.285156 -5.148438 -4.898438 -4.703125 -5.421875 C -4.253906 -5.941406 -3.582031 -6.203125 -2.6875 -6.203125 C -1.925781 -6.203125 -1.25 -5.953125 -0.65625 -5.453125 C -0.0703125 -4.960938 0.21875 -4.257812 0.21875 -3.34375 C 0.21875 -2.550781 -0.078125 -1.867188 -0.671875 -1.296875 C -1.273438 -0.734375 -2.28125 -0.453125 -3.6875 -0.453125 C -4.726562 -0.453125 -5.613281 -0.578125 -6.34375 -0.828125 C -7.726562 -1.316406 -8.421875 -2.210938 -8.421875 -3.515625 Z M -0.71875 -3.4375 C -0.71875 -3.988281 -0.90625 -4.398438 -1.28125 -4.671875 C -1.65625 -4.953125 -2.097656 -5.09375 -2.609375 -5.09375 C -3.035156 -5.09375 -3.441406 -4.96875 -3.828125 -4.71875 C -4.210938 -4.476562 -4.40625 -4.03125 -4.40625 -3.375 C -4.40625 -2.925781 -4.253906 -2.53125 -3.953125 -2.1875 C -3.660156 -1.84375 -3.210938 -1.671875 -2.609375 -1.671875 C -2.078125 -1.671875 -1.628906 -1.828125 -1.265625 -2.140625 C -0.898438 -2.453125 -0.71875 -2.882812 -0.71875 -3.4375 Z \"/>\n",
       "</symbol>\n",
       "<symbol overflow=\"visible\" id=\"glyph1-2\">\n",
       "<path style=\"stroke:none;\" d=\"M -1.28125 -1.03125 L -1.28125 -2.25 L 0 -2.25 L 0 -1.03125 Z \"/>\n",
       "</symbol>\n",
       "<symbol overflow=\"visible\" id=\"glyph1-3\">\n",
       "<path style=\"stroke:none;\" d=\"M -2.96875 -3.96875 L -6.78125 -3.96875 L -2.96875 -1.28125 Z M 0 -3.984375 L -2.046875 -3.984375 L -2.046875 -0.3125 L -3.078125 -0.3125 L -8.421875 -4.15625 L -8.421875 -5.046875 L -2.96875 -5.046875 L -2.96875 -6.28125 L -2.046875 -6.28125 L -2.046875 -5.046875 L 0 -5.046875 Z \"/>\n",
       "</symbol>\n",
       "<symbol overflow=\"visible\" id=\"glyph1-4\">\n",
       "<path style=\"stroke:none;\" d=\"M -8.390625 -3.25 C -8.390625 -4.332031 -7.941406 -5.117188 -7.046875 -5.609375 C -6.359375 -5.984375 -5.410156 -6.171875 -4.203125 -6.171875 C -3.066406 -6.171875 -2.125 -6 -1.375 -5.65625 C -0.300781 -5.164062 0.234375 -4.359375 0.234375 -3.234375 C 0.234375 -2.234375 -0.203125 -1.484375 -1.078125 -0.984375 C -1.816406 -0.578125 -2.800781 -0.375 -4.03125 -0.375 C -4.976562 -0.375 -5.796875 -0.5 -6.484375 -0.75 C -7.753906 -1.207031 -8.390625 -2.039062 -8.390625 -3.25 Z M -0.734375 -3.234375 C -0.734375 -3.785156 -0.972656 -4.222656 -1.453125 -4.546875 C -1.941406 -4.867188 -2.847656 -5.03125 -4.171875 -5.03125 C -5.117188 -5.03125 -5.898438 -4.910156 -6.515625 -4.671875 C -7.128906 -4.441406 -7.4375 -3.988281 -7.4375 -3.3125 C -7.4375 -2.6875 -7.144531 -2.226562 -6.5625 -1.9375 C -5.976562 -1.65625 -5.117188 -1.515625 -3.984375 -1.515625 C -3.128906 -1.515625 -2.441406 -1.609375 -1.921875 -1.796875 C -1.128906 -2.078125 -0.734375 -2.554688 -0.734375 -3.234375 Z \"/>\n",
       "</symbol>\n",
       "<symbol overflow=\"visible\" id=\"glyph1-5\">\n",
       "<path style=\"stroke:none;\" d=\"M -2.140625 -1.484375 C -1.535156 -1.554688 -1.117188 -1.835938 -0.890625 -2.328125 C -0.773438 -2.578125 -0.71875 -2.863281 -0.71875 -3.1875 C -0.71875 -3.8125 -0.914062 -4.273438 -1.3125 -4.578125 C -1.707031 -4.878906 -2.148438 -5.03125 -2.640625 -5.03125 C -3.222656 -5.03125 -3.675781 -4.847656 -4 -4.484375 C -4.320312 -4.128906 -4.484375 -3.703125 -4.484375 -3.203125 C -4.484375 -2.835938 -4.410156 -2.523438 -4.265625 -2.265625 C -4.128906 -2.003906 -3.9375 -1.785156 -3.6875 -1.609375 L -3.734375 -0.6875 L -8.25 -1.328125 L -8.25 -5.6875 L -7.234375 -5.6875 L -7.234375 -2.125 L -4.90625 -1.765625 C -5.050781 -1.960938 -5.160156 -2.148438 -5.234375 -2.328125 C -5.359375 -2.640625 -5.421875 -3 -5.421875 -3.40625 C -5.421875 -4.175781 -5.171875 -4.828125 -4.671875 -5.359375 C -4.179688 -5.898438 -3.554688 -6.171875 -2.796875 -6.171875 C -2.003906 -6.171875 -1.300781 -5.921875 -0.6875 -5.421875 C -0.0820312 -4.929688 0.21875 -4.148438 0.21875 -3.078125 C 0.21875 -2.398438 0.0234375 -1.796875 -0.359375 -1.265625 C -0.742188 -0.742188 -1.335938 -0.453125 -2.140625 -0.390625 Z \"/>\n",
       "</symbol>\n",
       "<symbol overflow=\"visible\" id=\"glyph1-6\">\n",
       "<path style=\"stroke:none;\" d=\"M -6.28125 -0.78125 L -6.28125 -1.8125 L -5.390625 -1.8125 C -5.691406 -2.0625 -5.914062 -2.289062 -6.0625 -2.5 C -6.300781 -2.84375 -6.421875 -3.238281 -6.421875 -3.6875 C -6.421875 -4.1875 -6.296875 -4.585938 -6.046875 -4.890625 C -5.910156 -5.054688 -5.703125 -5.210938 -5.421875 -5.359375 C -5.765625 -5.585938 -6.015625 -5.859375 -6.171875 -6.171875 C -6.335938 -6.492188 -6.421875 -6.851562 -6.421875 -7.25 C -6.421875 -8.09375 -6.113281 -8.664062 -5.5 -8.96875 C -5.175781 -9.132812 -4.734375 -9.21875 -4.171875 -9.21875 L 0 -9.21875 L 0 -8.125 L -4.359375 -8.125 C -4.773438 -8.125 -5.0625 -8.019531 -5.21875 -7.8125 C -5.375 -7.601562 -5.453125 -7.347656 -5.453125 -7.046875 C -5.453125 -6.628906 -5.3125 -6.269531 -5.03125 -5.96875 C -4.757812 -5.675781 -4.300781 -5.53125 -3.65625 -5.53125 L 0 -5.53125 L 0 -4.453125 L -4.09375 -4.453125 C -4.519531 -4.453125 -4.832031 -4.398438 -5.03125 -4.296875 C -5.320312 -4.140625 -5.46875 -3.84375 -5.46875 -3.40625 C -5.46875 -3.007812 -5.3125 -2.644531 -5 -2.3125 C -4.695312 -1.988281 -4.140625 -1.828125 -3.328125 -1.828125 L 0 -1.828125 L 0 -0.78125 Z \"/>\n",
       "</symbol>\n",
       "<symbol overflow=\"visible\" id=\"glyph1-7\">\n",
       "<path style=\"stroke:none;\" d=\"M -6.421875 -3.390625 C -6.421875 -3.835938 -6.316406 -4.269531 -6.109375 -4.6875 C -5.898438 -5.101562 -5.628906 -5.421875 -5.296875 -5.640625 C -4.972656 -5.847656 -4.601562 -5.988281 -4.1875 -6.0625 C -3.894531 -6.125 -3.429688 -6.15625 -2.796875 -6.15625 L -2.796875 -1.546875 C -2.160156 -1.566406 -1.648438 -1.71875 -1.265625 -2 C -0.878906 -2.28125 -0.6875 -2.71875 -0.6875 -3.3125 C -0.6875 -3.863281 -0.867188 -4.300781 -1.234375 -4.625 C -1.441406 -4.8125 -1.6875 -4.945312 -1.96875 -5.03125 L -1.96875 -6.0625 C -1.738281 -6.039062 -1.484375 -5.953125 -1.203125 -5.796875 C -0.921875 -5.640625 -0.6875 -5.46875 -0.5 -5.28125 C -0.1875 -4.957031 0.0195312 -4.554688 0.125 -4.078125 C 0.1875 -3.828125 0.21875 -3.539062 0.21875 -3.21875 C 0.21875 -2.4375 -0.0625 -1.773438 -0.625 -1.234375 C -1.195312 -0.691406 -1.992188 -0.421875 -3.015625 -0.421875 C -4.023438 -0.421875 -4.84375 -0.691406 -5.46875 -1.234375 C -6.101562 -1.785156 -6.421875 -2.503906 -6.421875 -3.390625 Z M -3.640625 -5.0625 C -4.097656 -5.019531 -4.460938 -4.921875 -4.734375 -4.765625 C -5.242188 -4.484375 -5.5 -4.003906 -5.5 -3.328125 C -5.5 -2.835938 -5.320312 -2.425781 -4.96875 -2.09375 C -4.625 -1.769531 -4.179688 -1.597656 -3.640625 -1.578125 Z M -6.421875 -3.28125 Z \"/>\n",
       "</symbol>\n",
       "<symbol overflow=\"visible\" id=\"glyph1-8\">\n",
       "<path style=\"stroke:none;\" d=\"M -1.671875 -1.578125 C -1.367188 -1.578125 -1.128906 -1.6875 -0.953125 -1.90625 C -0.773438 -2.132812 -0.6875 -2.398438 -0.6875 -2.703125 C -0.6875 -3.078125 -0.769531 -3.4375 -0.9375 -3.78125 C -1.226562 -4.375 -1.695312 -4.671875 -2.34375 -4.671875 L -3.1875 -4.671875 C -3.113281 -4.535156 -3.046875 -4.363281 -2.984375 -4.15625 C -2.929688 -3.957031 -2.894531 -3.757812 -2.875 -3.5625 L -2.796875 -2.9375 C -2.742188 -2.550781 -2.660156 -2.257812 -2.546875 -2.0625 C -2.367188 -1.738281 -2.078125 -1.578125 -1.671875 -1.578125 Z M -3.796875 -4.140625 C -3.828125 -4.378906 -3.929688 -4.539062 -4.109375 -4.625 C -4.203125 -4.664062 -4.335938 -4.6875 -4.515625 -4.6875 C -4.867188 -4.6875 -5.125 -4.554688 -5.28125 -4.296875 C -5.445312 -4.046875 -5.53125 -3.6875 -5.53125 -3.21875 C -5.53125 -2.664062 -5.382812 -2.273438 -5.09375 -2.046875 C -4.925781 -1.910156 -4.679688 -1.820312 -4.359375 -1.78125 L -4.359375 -0.796875 C -5.128906 -0.816406 -5.664062 -1.066406 -5.96875 -1.546875 C -6.269531 -2.035156 -6.421875 -2.597656 -6.421875 -3.234375 C -6.421875 -3.972656 -6.28125 -4.570312 -6 -5.03125 C -5.71875 -5.488281 -5.28125 -5.71875 -4.6875 -5.71875 L -1.078125 -5.71875 C -0.972656 -5.71875 -0.882812 -5.738281 -0.8125 -5.78125 C -0.75 -5.832031 -0.71875 -5.929688 -0.71875 -6.078125 C -0.71875 -6.117188 -0.71875 -6.164062 -0.71875 -6.21875 C -0.726562 -6.28125 -0.738281 -6.347656 -0.75 -6.421875 L 0.03125 -6.421875 C 0.0703125 -6.253906 0.0976562 -6.125 0.109375 -6.03125 C 0.128906 -5.945312 0.140625 -5.832031 0.140625 -5.6875 C 0.140625 -5.320312 0.0078125 -5.0625 -0.25 -4.90625 C -0.382812 -4.8125 -0.578125 -4.75 -0.828125 -4.71875 C -0.546875 -4.5 -0.300781 -4.1875 -0.09375 -3.78125 C 0.113281 -3.382812 0.21875 -2.945312 0.21875 -2.46875 C 0.21875 -1.882812 0.0390625 -1.40625 -0.3125 -1.03125 C -0.664062 -0.664062 -1.109375 -0.484375 -1.640625 -0.484375 C -2.222656 -0.484375 -2.675781 -0.664062 -3 -1.03125 C -3.320312 -1.394531 -3.519531 -1.867188 -3.59375 -2.453125 Z M -6.421875 -3.265625 Z \"/>\n",
       "</symbol>\n",
       "<symbol overflow=\"visible\" id=\"glyph1-9\">\n",
       "<path style=\"stroke:none;\" d=\"M -6.28125 -0.78125 L -6.28125 -1.78125 L -5.390625 -1.78125 C -5.753906 -2.070312 -6.015625 -2.382812 -6.171875 -2.71875 C -6.335938 -3.050781 -6.421875 -3.421875 -6.421875 -3.828125 C -6.421875 -4.710938 -6.109375 -5.3125 -5.484375 -5.625 C -5.140625 -5.800781 -4.65625 -5.890625 -4.03125 -5.890625 L 0 -5.890625 L 0 -4.8125 L -3.953125 -4.8125 C -4.335938 -4.8125 -4.644531 -4.753906 -4.875 -4.640625 C -5.269531 -4.453125 -5.46875 -4.113281 -5.46875 -3.625 C -5.46875 -3.375 -5.441406 -3.171875 -5.390625 -3.015625 C -5.304688 -2.722656 -5.132812 -2.46875 -4.875 -2.25 C -4.664062 -2.070312 -4.453125 -1.957031 -4.234375 -1.90625 C -4.015625 -1.851562 -3.695312 -1.828125 -3.28125 -1.828125 L 0 -1.828125 L 0 -0.78125 Z M -6.421875 -3.25 Z \"/>\n",
       "</symbol>\n",
       "<symbol overflow=\"visible\" id=\"glyph1-10\">\n",
       "<path style=\"stroke:none;\" d=\"M -6.453125 -3.1875 C -6.453125 -3.894531 -6.28125 -4.46875 -5.9375 -4.90625 C -5.59375 -5.351562 -5.003906 -5.625 -4.171875 -5.71875 L -4.171875 -4.6875 C -4.554688 -4.625 -4.875 -4.484375 -5.125 -4.265625 C -5.382812 -4.046875 -5.515625 -3.6875 -5.515625 -3.1875 C -5.515625 -2.519531 -5.1875 -2.039062 -4.53125 -1.75 C -4.101562 -1.5625 -3.578125 -1.46875 -2.953125 -1.46875 C -2.328125 -1.46875 -1.796875 -1.597656 -1.359375 -1.859375 C -0.929688 -2.128906 -0.71875 -2.550781 -0.71875 -3.125 C -0.71875 -3.5625 -0.851562 -3.90625 -1.125 -4.15625 C -1.394531 -4.414062 -1.757812 -4.59375 -2.21875 -4.6875 L -2.21875 -5.71875 C -1.382812 -5.601562 -0.773438 -5.3125 -0.390625 -4.84375 C -0.00390625 -4.375 0.1875 -3.773438 0.1875 -3.046875 C 0.1875 -2.222656 -0.113281 -1.566406 -0.71875 -1.078125 C -1.320312 -0.585938 -2.070312 -0.34375 -2.96875 -0.34375 C -4.070312 -0.34375 -4.925781 -0.609375 -5.53125 -1.140625 C -6.144531 -1.679688 -6.453125 -2.363281 -6.453125 -3.1875 Z M -6.421875 -3.03125 Z \"/>\n",
       "</symbol>\n",
       "<symbol overflow=\"visible\" id=\"glyph1-11\">\n",
       "<path style=\"stroke:none;\" d=\"M -6.28125 -1.296875 L -1.171875 -2.96875 L -6.28125 -4.71875 L -6.28125 -5.875 L 0 -3.5 L 0 -2.375 L -6.28125 -0.0625 Z \"/>\n",
       "</symbol>\n",
       "<symbol overflow=\"visible\" id=\"glyph1-12\">\n",
       "<path style=\"stroke:none;\" d=\"M -6.28125 -0.796875 L -6.28125 -1.8125 L -5.1875 -1.8125 C -5.40625 -1.882812 -5.664062 -2.082031 -5.96875 -2.40625 C -6.269531 -2.726562 -6.421875 -3.097656 -6.421875 -3.515625 C -6.421875 -3.535156 -6.414062 -3.566406 -6.40625 -3.609375 C -6.40625 -3.660156 -6.398438 -3.742188 -6.390625 -3.859375 L -5.28125 -3.859375 C -5.289062 -3.796875 -5.296875 -3.738281 -5.296875 -3.6875 C -5.296875 -3.632812 -5.296875 -3.578125 -5.296875 -3.515625 C -5.296875 -2.984375 -5.125 -2.570312 -4.78125 -2.28125 C -4.445312 -2 -4.054688 -1.859375 -3.609375 -1.859375 L 0 -1.859375 L 0 -0.796875 Z \"/>\n",
       "</symbol>\n",
       "<symbol overflow=\"visible\" id=\"glyph1-13\">\n",
       "<path style=\"stroke:none;\" d=\"M -0.6875 -3.265625 C -0.6875 -3.960938 -0.945312 -4.441406 -1.46875 -4.703125 C -2 -4.960938 -2.585938 -5.09375 -3.234375 -5.09375 C -3.828125 -5.09375 -4.304688 -5 -4.671875 -4.8125 C -5.242188 -4.507812 -5.53125 -4 -5.53125 -3.28125 C -5.53125 -2.632812 -5.285156 -2.164062 -4.796875 -1.875 C -4.304688 -1.582031 -3.710938 -1.4375 -3.015625 -1.4375 C -2.347656 -1.4375 -1.789062 -1.582031 -1.34375 -1.875 C -0.90625 -2.164062 -0.6875 -2.628906 -0.6875 -3.265625 Z M -6.453125 -3.3125 C -6.453125 -4.113281 -6.179688 -4.789062 -5.640625 -5.34375 C -5.109375 -5.90625 -4.316406 -6.1875 -3.265625 -6.1875 C -2.253906 -6.1875 -1.414062 -5.941406 -0.75 -5.453125 C -0.09375 -4.960938 0.234375 -4.203125 0.234375 -3.171875 C 0.234375 -2.304688 -0.0546875 -1.617188 -0.640625 -1.109375 C -1.234375 -0.597656 -2.019531 -0.34375 -3 -0.34375 C -4.050781 -0.34375 -4.890625 -0.609375 -5.515625 -1.140625 C -6.140625 -1.679688 -6.453125 -2.40625 -6.453125 -3.3125 Z M -6.421875 -3.265625 Z \"/>\n",
       "</symbol>\n",
       "<symbol overflow=\"visible\" id=\"glyph1-14\">\n",
       "<path style=\"stroke:none;\" d=\"M -1.96875 -1.40625 C -1.613281 -1.4375 -1.34375 -1.523438 -1.15625 -1.671875 C -0.820312 -1.929688 -0.65625 -2.390625 -0.65625 -3.046875 C -0.65625 -3.441406 -0.738281 -3.785156 -0.90625 -4.078125 C -1.070312 -4.378906 -1.332031 -4.53125 -1.6875 -4.53125 C -1.957031 -4.53125 -2.164062 -4.410156 -2.3125 -4.171875 C -2.394531 -4.015625 -2.492188 -3.710938 -2.609375 -3.265625 L -2.8125 -2.421875 C -2.945312 -1.890625 -3.097656 -1.5 -3.265625 -1.25 C -3.546875 -0.789062 -3.941406 -0.5625 -4.453125 -0.5625 C -5.046875 -0.5625 -5.523438 -0.773438 -5.890625 -1.203125 C -6.253906 -1.628906 -6.4375 -2.207031 -6.4375 -2.9375 C -6.4375 -3.875 -6.160156 -4.550781 -5.609375 -4.96875 C -5.253906 -5.238281 -4.875 -5.367188 -4.46875 -5.359375 L -4.46875 -4.359375 C -4.707031 -4.335938 -4.925781 -4.253906 -5.125 -4.109375 C -5.394531 -3.867188 -5.53125 -3.445312 -5.53125 -2.84375 C -5.53125 -2.445312 -5.453125 -2.144531 -5.296875 -1.9375 C -5.148438 -1.738281 -4.953125 -1.640625 -4.703125 -1.640625 C -4.429688 -1.640625 -4.210938 -1.773438 -4.046875 -2.046875 C -3.953125 -2.203125 -3.867188 -2.429688 -3.796875 -2.734375 L -3.625 -3.421875 C -3.4375 -4.179688 -3.257812 -4.691406 -3.09375 -4.953125 C -2.820312 -5.359375 -2.394531 -5.5625 -1.8125 -5.5625 C -1.257812 -5.5625 -0.78125 -5.347656 -0.375 -4.921875 C 0.03125 -4.503906 0.234375 -3.863281 0.234375 -3 C 0.234375 -2.0625 0.0234375 -1.394531 -0.390625 -1 C -0.816406 -0.613281 -1.34375 -0.410156 -1.96875 -0.390625 Z M -6.421875 -2.953125 Z \"/>\n",
       "</symbol>\n",
       "</g>\n",
       "</defs>\n",
       "<g id=\"surface735\">\n",
       "<rect x=\"0\" y=\"0\" width=\"504\" height=\"504\" style=\"fill:rgb(100%,100%,100%);fill-opacity:1;stroke:none;\"/>\n",
       "<path style=\"fill:none;stroke-width:0.75;stroke-linecap:round;stroke-linejoin:round;stroke:rgb(0%,0%,0%);stroke-opacity:1;stroke-miterlimit:10;\" d=\"M 75.976562 79.824219 L 104.824219 208.277344 \"/>\n",
       "<path style=\"fill:none;stroke-width:0.75;stroke-linecap:round;stroke-linejoin:round;stroke:rgb(0%,0%,0%);stroke-opacity:1;stroke-miterlimit:10;\" d=\"M 110.710938 209.539062 L 134.089844 178.277344 \"/>\n",
       "<path style=\"fill:none;stroke-width:0.75;stroke-linecap:round;stroke-linejoin:round;stroke:rgb(0%,0%,0%);stroke-opacity:1;stroke-miterlimit:10;\" d=\"M 141.945312 178.777344 L 166.851562 222.777344 \"/>\n",
       "<path style=\"fill:none;stroke-width:0.75;stroke-linecap:round;stroke-linejoin:round;stroke:rgb(0%,0%,0%);stroke-opacity:1;stroke-miterlimit:10;\" d=\"M 177.308594 231.066406 L 195.492188 236.398438 \"/>\n",
       "<path style=\"fill:none;stroke-width:0.75;stroke-linecap:round;stroke-linejoin:round;stroke:rgb(0%,0%,0%);stroke-opacity:1;stroke-miterlimit:10;\" d=\"M 209.398438 240.121094 L 227.402344 244.496094 \"/>\n",
       "<path style=\"fill:none;stroke-width:0.75;stroke-linecap:round;stroke-linejoin:round;stroke:rgb(0%,0%,0%);stroke-opacity:1;stroke-miterlimit:10;\" d=\"M 237.117188 252.863281 L 263.683594 318.109375 \"/>\n",
       "<path style=\"fill:none;stroke-width:0.75;stroke-linecap:round;stroke-linejoin:round;stroke:rgb(0%,0%,0%);stroke-opacity:1;stroke-miterlimit:10;\" d=\"M 273.398438 323.085938 L 291.402344 318.738281 \"/>\n",
       "<path style=\"fill:none;stroke-width:0.75;stroke-linecap:round;stroke-linejoin:round;stroke:rgb(0%,0%,0%);stroke-opacity:1;stroke-miterlimit:10;\" d=\"M 300.964844 323.773438 L 327.835938 394.265625 \"/>\n",
       "<path style=\"fill:none;stroke-width:0.75;stroke-linecap:round;stroke-linejoin:round;stroke:rgb(0%,0%,0%);stroke-opacity:1;stroke-miterlimit:10;\" d=\"M 337.445312 399.507812 L 355.355469 395.726562 \"/>\n",
       "<path style=\"fill:none;stroke-width:0.75;stroke-linecap:round;stroke-linejoin:round;stroke:rgb(0%,0%,0%);stroke-opacity:1;stroke-miterlimit:10;\" d=\"M 369.378906 392.472656 L 387.421875 387.894531 \"/>\n",
       "<path style=\"fill:none;stroke-width:0.75;stroke-linecap:round;stroke-linejoin:round;stroke:rgb(0%,0%,0%);stroke-opacity:1;stroke-miterlimit:10;\" d=\"M 399.597656 391.109375 L 421.203125 411.816406 \"/>\n",
       "<path style=\"fill:none;stroke-width:0.75;stroke-linecap:round;stroke-linejoin:round;stroke:rgb(0%,0%,0%);stroke-opacity:1;stroke-miterlimit:10;\" d=\"M 433.5625 416.078125 L 451.238281 414.292969 \"/>\n",
       "<path style=\"fill:none;stroke-width:0.75;stroke-linecap:round;stroke-linejoin:round;stroke:rgb(0%,0%,0%);stroke-opacity:1;stroke-miterlimit:10;\" d=\"M 77.101562 72.800781 C 77.101562 76.398438 71.699219 76.398438 71.699219 72.800781 C 71.699219 69.199219 77.101562 69.199219 77.101562 72.800781 \"/>\n",
       "<path style=\"fill:none;stroke-width:0.75;stroke-linecap:round;stroke-linejoin:round;stroke:rgb(0%,0%,0%);stroke-opacity:1;stroke-miterlimit:10;\" d=\"M 109.101562 215.304688 C 109.101562 218.902344 103.699219 218.902344 103.699219 215.304688 C 103.699219 211.703125 109.101562 211.703125 109.101562 215.304688 \"/>\n",
       "<path style=\"fill:none;stroke-width:0.75;stroke-linecap:round;stroke-linejoin:round;stroke:rgb(0%,0%,0%);stroke-opacity:1;stroke-miterlimit:10;\" d=\"M 141.101562 172.511719 C 141.101562 176.113281 135.699219 176.113281 135.699219 172.511719 C 135.699219 168.910156 141.101562 168.910156 141.101562 172.511719 \"/>\n",
       "<path style=\"fill:none;stroke-width:0.75;stroke-linecap:round;stroke-linejoin:round;stroke:rgb(0%,0%,0%);stroke-opacity:1;stroke-miterlimit:10;\" d=\"M 173.101562 229.042969 C 173.101562 232.640625 167.699219 232.640625 167.699219 229.042969 C 167.699219 225.441406 173.101562 225.441406 173.101562 229.042969 \"/>\n",
       "<path style=\"fill:none;stroke-width:0.75;stroke-linecap:round;stroke-linejoin:round;stroke:rgb(0%,0%,0%);stroke-opacity:1;stroke-miterlimit:10;\" d=\"M 205.101562 238.421875 C 205.101562 242.023438 199.699219 242.023438 199.699219 238.421875 C 199.699219 234.824219 205.101562 234.824219 205.101562 238.421875 \"/>\n",
       "<path style=\"fill:none;stroke-width:0.75;stroke-linecap:round;stroke-linejoin:round;stroke:rgb(0%,0%,0%);stroke-opacity:1;stroke-miterlimit:10;\" d=\"M 237.101562 246.195312 C 237.101562 249.796875 231.699219 249.796875 231.699219 246.195312 C 231.699219 242.59375 237.101562 242.59375 237.101562 246.195312 \"/>\n",
       "<path style=\"fill:none;stroke-width:0.75;stroke-linecap:round;stroke-linejoin:round;stroke:rgb(0%,0%,0%);stroke-opacity:1;stroke-miterlimit:10;\" d=\"M 269.101562 324.777344 C 269.101562 328.378906 263.699219 328.378906 263.699219 324.777344 C 263.699219 321.179688 269.101562 321.179688 269.101562 324.777344 \"/>\n",
       "<path style=\"fill:none;stroke-width:0.75;stroke-linecap:round;stroke-linejoin:round;stroke:rgb(0%,0%,0%);stroke-opacity:1;stroke-miterlimit:10;\" d=\"M 301.101562 317.046875 C 301.101562 320.644531 295.699219 320.644531 295.699219 317.046875 C 295.699219 313.445312 301.101562 313.445312 301.101562 317.046875 \"/>\n",
       "<path style=\"fill:none;stroke-width:0.75;stroke-linecap:round;stroke-linejoin:round;stroke:rgb(0%,0%,0%);stroke-opacity:1;stroke-miterlimit:10;\" d=\"M 333.101562 400.996094 C 333.101562 404.59375 327.699219 404.59375 327.699219 400.996094 C 327.699219 397.394531 333.101562 397.394531 333.101562 400.996094 \"/>\n",
       "<path style=\"fill:none;stroke-width:0.75;stroke-linecap:round;stroke-linejoin:round;stroke:rgb(0%,0%,0%);stroke-opacity:1;stroke-miterlimit:10;\" d=\"M 365.101562 394.242188 C 365.101562 397.839844 359.699219 397.839844 359.699219 394.242188 C 359.699219 390.640625 365.101562 390.640625 365.101562 394.242188 \"/>\n",
       "<path style=\"fill:none;stroke-width:0.75;stroke-linecap:round;stroke-linejoin:round;stroke:rgb(0%,0%,0%);stroke-opacity:1;stroke-miterlimit:10;\" d=\"M 397.101562 386.125 C 397.101562 389.726562 391.699219 389.726562 391.699219 386.125 C 391.699219 382.523438 397.101562 382.523438 397.101562 386.125 \"/>\n",
       "<path style=\"fill:none;stroke-width:0.75;stroke-linecap:round;stroke-linejoin:round;stroke:rgb(0%,0%,0%);stroke-opacity:1;stroke-miterlimit:10;\" d=\"M 429.101562 416.800781 C 429.101562 420.398438 423.699219 420.398438 423.699219 416.800781 C 423.699219 413.199219 429.101562 413.199219 429.101562 416.800781 \"/>\n",
       "<path style=\"fill:none;stroke-width:0.75;stroke-linecap:round;stroke-linejoin:round;stroke:rgb(0%,0%,0%);stroke-opacity:1;stroke-miterlimit:10;\" d=\"M 461.101562 413.566406 C 461.101562 417.167969 455.699219 417.167969 455.699219 413.566406 C 455.699219 409.96875 461.101562 409.96875 461.101562 413.566406 \"/>\n",
       "<path style=\"fill:none;stroke-width:0.75;stroke-linecap:round;stroke-linejoin:round;stroke:rgb(0%,0%,0%);stroke-opacity:1;stroke-miterlimit:10;\" d=\"M 106.398438 430.558594 L 426.398438 430.558594 \"/>\n",
       "<path style=\"fill:none;stroke-width:0.75;stroke-linecap:round;stroke-linejoin:round;stroke:rgb(0%,0%,0%);stroke-opacity:1;stroke-miterlimit:10;\" d=\"M 106.398438 430.558594 L 106.398438 437.761719 \"/>\n",
       "<path style=\"fill:none;stroke-width:0.75;stroke-linecap:round;stroke-linejoin:round;stroke:rgb(0%,0%,0%);stroke-opacity:1;stroke-miterlimit:10;\" d=\"M 170.398438 430.558594 L 170.398438 437.761719 \"/>\n",
       "<path style=\"fill:none;stroke-width:0.75;stroke-linecap:round;stroke-linejoin:round;stroke:rgb(0%,0%,0%);stroke-opacity:1;stroke-miterlimit:10;\" d=\"M 234.398438 430.558594 L 234.398438 437.761719 \"/>\n",
       "<path style=\"fill:none;stroke-width:0.75;stroke-linecap:round;stroke-linejoin:round;stroke:rgb(0%,0%,0%);stroke-opacity:1;stroke-miterlimit:10;\" d=\"M 298.398438 430.558594 L 298.398438 437.761719 \"/>\n",
       "<path style=\"fill:none;stroke-width:0.75;stroke-linecap:round;stroke-linejoin:round;stroke:rgb(0%,0%,0%);stroke-opacity:1;stroke-miterlimit:10;\" d=\"M 362.398438 430.558594 L 362.398438 437.761719 \"/>\n",
       "<path style=\"fill:none;stroke-width:0.75;stroke-linecap:round;stroke-linejoin:round;stroke:rgb(0%,0%,0%);stroke-opacity:1;stroke-miterlimit:10;\" d=\"M 426.398438 430.558594 L 426.398438 437.761719 \"/>\n",
       "<g style=\"fill:rgb(0%,0%,0%);fill-opacity:1;\">\n",
       "  <use xlink:href=\"#glyph0-1\" x=\"103.0625\" y=\"456.480469\"/>\n",
       "</g>\n",
       "<g style=\"fill:rgb(0%,0%,0%);fill-opacity:1;\">\n",
       "  <use xlink:href=\"#glyph0-2\" x=\"167.0625\" y=\"456.480469\"/>\n",
       "</g>\n",
       "<g style=\"fill:rgb(0%,0%,0%);fill-opacity:1;\">\n",
       "  <use xlink:href=\"#glyph0-3\" x=\"231.0625\" y=\"456.480469\"/>\n",
       "</g>\n",
       "<g style=\"fill:rgb(0%,0%,0%);fill-opacity:1;\">\n",
       "  <use xlink:href=\"#glyph0-4\" x=\"295.0625\" y=\"456.480469\"/>\n",
       "</g>\n",
       "<g style=\"fill:rgb(0%,0%,0%);fill-opacity:1;\">\n",
       "  <use xlink:href=\"#glyph0-5\" x=\"355.726562\" y=\"456.480469\"/>\n",
       "  <use xlink:href=\"#glyph0-6\" x=\"362.400391\" y=\"456.480469\"/>\n",
       "</g>\n",
       "<g style=\"fill:rgb(0%,0%,0%);fill-opacity:1;\">\n",
       "  <use xlink:href=\"#glyph0-5\" x=\"419.726562\" y=\"456.480469\"/>\n",
       "  <use xlink:href=\"#glyph0-1\" x=\"426.400391\" y=\"456.480469\"/>\n",
       "</g>\n",
       "<path style=\"fill:none;stroke-width:0.75;stroke-linecap:round;stroke-linejoin:round;stroke:rgb(0%,0%,0%);stroke-opacity:1;stroke-miterlimit:10;\" d=\"M 59.039062 426.234375 L 59.039062 102.210938 \"/>\n",
       "<path style=\"fill:none;stroke-width:0.75;stroke-linecap:round;stroke-linejoin:round;stroke:rgb(0%,0%,0%);stroke-opacity:1;stroke-miterlimit:10;\" d=\"M 59.039062 426.234375 L 51.839844 426.234375 \"/>\n",
       "<path style=\"fill:none;stroke-width:0.75;stroke-linecap:round;stroke-linejoin:round;stroke:rgb(0%,0%,0%);stroke-opacity:1;stroke-miterlimit:10;\" d=\"M 59.039062 345.226562 L 51.839844 345.226562 \"/>\n",
       "<path style=\"fill:none;stroke-width:0.75;stroke-linecap:round;stroke-linejoin:round;stroke:rgb(0%,0%,0%);stroke-opacity:1;stroke-miterlimit:10;\" d=\"M 59.039062 264.222656 L 51.839844 264.222656 \"/>\n",
       "<path style=\"fill:none;stroke-width:0.75;stroke-linecap:round;stroke-linejoin:round;stroke:rgb(0%,0%,0%);stroke-opacity:1;stroke-miterlimit:10;\" d=\"M 59.039062 183.214844 L 51.839844 183.214844 \"/>\n",
       "<path style=\"fill:none;stroke-width:0.75;stroke-linecap:round;stroke-linejoin:round;stroke:rgb(0%,0%,0%);stroke-opacity:1;stroke-miterlimit:10;\" d=\"M 59.039062 102.210938 L 51.839844 102.210938 \"/>\n",
       "<g style=\"fill:rgb(0%,0%,0%);fill-opacity:1;\">\n",
       "  <use xlink:href=\"#glyph1-1\" x=\"41.761719\" y=\"437.914062\"/>\n",
       "  <use xlink:href=\"#glyph1-2\" x=\"41.761719\" y=\"431.240234\"/>\n",
       "  <use xlink:href=\"#glyph1-3\" x=\"41.761719\" y=\"427.90625\"/>\n",
       "  <use xlink:href=\"#glyph1-4\" x=\"41.761719\" y=\"421.232422\"/>\n",
       "</g>\n",
       "<g style=\"fill:rgb(0%,0%,0%);fill-opacity:1;\">\n",
       "  <use xlink:href=\"#glyph1-1\" x=\"41.761719\" y=\"356.90625\"/>\n",
       "  <use xlink:href=\"#glyph1-2\" x=\"41.761719\" y=\"350.232422\"/>\n",
       "  <use xlink:href=\"#glyph1-3\" x=\"41.761719\" y=\"346.898438\"/>\n",
       "  <use xlink:href=\"#glyph1-5\" x=\"41.761719\" y=\"340.224609\"/>\n",
       "</g>\n",
       "<g style=\"fill:rgb(0%,0%,0%);fill-opacity:1;\">\n",
       "  <use xlink:href=\"#glyph1-1\" x=\"41.761719\" y=\"275.902344\"/>\n",
       "  <use xlink:href=\"#glyph1-2\" x=\"41.761719\" y=\"269.228516\"/>\n",
       "  <use xlink:href=\"#glyph1-5\" x=\"41.761719\" y=\"265.894531\"/>\n",
       "  <use xlink:href=\"#glyph1-4\" x=\"41.761719\" y=\"259.220703\"/>\n",
       "</g>\n",
       "<g style=\"fill:rgb(0%,0%,0%);fill-opacity:1;\">\n",
       "  <use xlink:href=\"#glyph1-1\" x=\"41.761719\" y=\"194.894531\"/>\n",
       "  <use xlink:href=\"#glyph1-2\" x=\"41.761719\" y=\"188.220703\"/>\n",
       "  <use xlink:href=\"#glyph1-5\" x=\"41.761719\" y=\"184.886719\"/>\n",
       "  <use xlink:href=\"#glyph1-5\" x=\"41.761719\" y=\"178.212891\"/>\n",
       "</g>\n",
       "<g style=\"fill:rgb(0%,0%,0%);fill-opacity:1;\">\n",
       "  <use xlink:href=\"#glyph1-1\" x=\"41.761719\" y=\"113.890625\"/>\n",
       "  <use xlink:href=\"#glyph1-2\" x=\"41.761719\" y=\"107.216797\"/>\n",
       "  <use xlink:href=\"#glyph1-1\" x=\"41.761719\" y=\"103.882812\"/>\n",
       "  <use xlink:href=\"#glyph1-4\" x=\"41.761719\" y=\"97.208984\"/>\n",
       "</g>\n",
       "<path style=\"fill:none;stroke-width:0.75;stroke-linecap:round;stroke-linejoin:round;stroke:rgb(0%,0%,0%);stroke-opacity:1;stroke-miterlimit:10;\" d=\"M 59.039062 430.558594 L 473.761719 430.558594 L 473.761719 59.039062 L 59.039062 59.039062 L 59.039062 430.558594 \"/>\n",
       "<g style=\"fill:rgb(0%,0%,0%);fill-opacity:1;\">\n",
       "  <use xlink:href=\"#glyph0-7\" x=\"251.71875\" y=\"485.28125\"/>\n",
       "  <use xlink:href=\"#glyph0-8\" x=\"255.052734\" y=\"485.28125\"/>\n",
       "  <use xlink:href=\"#glyph0-9\" x=\"261.726562\" y=\"485.28125\"/>\n",
       "  <use xlink:href=\"#glyph0-10\" x=\"268.400391\" y=\"485.28125\"/>\n",
       "  <use xlink:href=\"#glyph0-11\" x=\"275.074219\" y=\"485.28125\"/>\n",
       "</g>\n",
       "<g style=\"fill:rgb(0%,0%,0%);fill-opacity:1;\">\n",
       "  <use xlink:href=\"#glyph1-6\" x=\"12.960938\" y=\"284.8125\"/>\n",
       "  <use xlink:href=\"#glyph1-7\" x=\"12.960938\" y=\"274.816406\"/>\n",
       "  <use xlink:href=\"#glyph1-8\" x=\"12.960938\" y=\"268.142578\"/>\n",
       "  <use xlink:href=\"#glyph1-9\" x=\"12.960938\" y=\"261.46875\"/>\n",
       "  <use xlink:href=\"#glyph1-2\" x=\"12.960938\" y=\"254.794922\"/>\n",
       "  <use xlink:href=\"#glyph1-10\" x=\"12.960938\" y=\"251.460938\"/>\n",
       "  <use xlink:href=\"#glyph1-11\" x=\"12.960938\" y=\"245.460938\"/>\n",
       "  <use xlink:href=\"#glyph1-2\" x=\"12.960938\" y=\"239.460938\"/>\n",
       "  <use xlink:href=\"#glyph1-7\" x=\"12.960938\" y=\"236.126953\"/>\n",
       "  <use xlink:href=\"#glyph1-12\" x=\"12.960938\" y=\"229.453125\"/>\n",
       "  <use xlink:href=\"#glyph1-12\" x=\"12.960938\" y=\"225.457031\"/>\n",
       "  <use xlink:href=\"#glyph1-13\" x=\"12.960938\" y=\"221.460938\"/>\n",
       "  <use xlink:href=\"#glyph1-12\" x=\"12.960938\" y=\"214.787109\"/>\n",
       "  <use xlink:href=\"#glyph1-14\" x=\"12.960938\" y=\"210.791016\"/>\n",
       "</g>\n",
       "</g>\n",
       "</svg>\n"
      ],
      "text/plain": [
       "plot without title"
      ]
     },
     "metadata": {},
     "output_type": "display_data"
    }
   ],
   "source": [
    "#best subset selection with CV. 模板code\n",
    "predict.regsubsets=function(object,newdata,id){\n",
    "    form=as.formula(object$call[[2]])\n",
    "    mat=model.matrix(form,newdata)\n",
    "    coefi=coef(object,id=id)\n",
    "    xvars=names(coefi)\n",
    "    mat[,xvars]%*%coefi\n",
    "}\n",
    "#same here. have to write CV procedures ourself. no prebuid CV in regsubsets\n",
    "k=10\n",
    "set.seed(1)\n",
    "folds=sample(1:k,nrow(Boston),rep=T)\n",
    "cv.errors=matrix(NA,k,13,dimnames=list(NULL,paste(1:13)))\n",
    "for(j in 1:k){ #use data not in jth fold\n",
    "    best.fit=regsubsets(crim~.,data=Boston[folds!=j,],nvmax=13)\n",
    "    for(i in 1:13){\n",
    "        pred=predict.regsubsets(best.fit,Boston[folds==j,],id=i)\n",
    "        cv.errors[j,i]=mean((Boston$crim[folds==j]-pred)^2)\n",
    "    }\n",
    "}\n",
    "mean.cv.errors=sqrt(apply(cv.errors,2,mean))\n",
    "plot(mean.cv.errors,type=\"b\")\n",
    "which.min(mean.cv.errors)"
   ]
  },
  {
   "cell_type": "code",
   "execution_count": null,
   "metadata": {
    "collapsed": true
   },
   "outputs": [],
   "source": []
  }
 ],
 "metadata": {
  "kernelspec": {
   "display_name": "R",
   "language": "",
   "name": "ir"
  },
  "language_info": {
   "codemirror_mode": "r",
   "file_extension": ".r",
   "mimetype": "text/x-r-source",
   "name": "R",
   "pygments_lexer": "r",
   "version": "3.1.3"
  }
 },
 "nbformat": 4,
 "nbformat_minor": 0
}
